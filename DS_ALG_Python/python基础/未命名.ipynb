{
 "cells": [
  {
   "cell_type": "markdown",
   "id": "cee51769",
   "metadata": {},
   "source": [
    "# Python基础"
   ]
  },
  {
   "cell_type": "markdown",
   "id": "41c3825c",
   "metadata": {},
   "source": [
    "## 数据"
   ]
  },
  {
   "cell_type": "markdown",
   "id": "66b0297d",
   "metadata": {
    "ExecuteTime": {
     "end_time": "2021-12-06T14:00:16.592204Z",
     "start_time": "2021-12-06T14:00:16.585227Z"
    }
   },
   "source": [
    "### 原子数据类型"
   ]
  },
  {
   "cell_type": "markdown",
   "id": "c93c623d",
   "metadata": {},
   "source": [
    "+、 -、 *、 /、取幂 **、取余%、整除//"
   ]
  },
  {
   "cell_type": "code",
   "execution_count": 4,
   "id": "3dda1ba6",
   "metadata": {
    "ExecuteTime": {
     "end_time": "2021-12-06T14:04:24.098937Z",
     "start_time": "2021-12-06T14:04:24.091469Z"
    }
   },
   "outputs": [
    {
     "data": {
      "text/plain": [
       "2.3333333333333335"
      ]
     },
     "execution_count": 4,
     "metadata": {},
     "output_type": "execute_result"
    }
   ],
   "source": [
    "7/3"
   ]
  },
  {
   "cell_type": "code",
   "execution_count": 6,
   "id": "6d371e58",
   "metadata": {
    "ExecuteTime": {
     "end_time": "2021-12-06T14:04:54.424969Z",
     "start_time": "2021-12-06T14:04:54.421269Z"
    }
   },
   "outputs": [
    {
     "data": {
      "text/plain": [
       "2"
      ]
     },
     "execution_count": 6,
     "metadata": {},
     "output_type": "execute_result"
    }
   ],
   "source": [
    "7//3 #只保留整数部分"
   ]
  },
  {
   "cell_type": "code",
   "execution_count": 7,
   "id": "d8873cce",
   "metadata": {
    "ExecuteTime": {
     "end_time": "2021-12-06T14:07:02.367753Z",
     "start_time": "2021-12-06T14:07:02.357957Z"
    }
   },
   "outputs": [
    {
     "data": {
      "text/plain": [
       "16"
      ]
     },
     "execution_count": 7,
     "metadata": {},
     "output_type": "execute_result"
    }
   ],
   "source": [
    "2 ** 4"
   ]
  },
  {
   "cell_type": "markdown",
   "id": "438e2073",
   "metadata": {
    "ExecuteTime": {
     "end_time": "2021-12-06T14:09:55.350874Z",
     "start_time": "2021-12-06T14:09:55.345970Z"
    }
   },
   "source": [
    "### 赋值语句、变量的引用"
   ]
  },
  {
   "cell_type": "markdown",
   "id": "0cd66fb5",
   "metadata": {},
   "source": [
    "Python 会先计算赋值运算符右边的表达式，然后将指向该结果数据对象的引用赋给左边的变量名。右边的数据类型是什么类型什么类型，变量就是什么类型，如果右边的数据类型发生改变，左边的变量类型也会发生改变"
   ]
  },
  {
   "cell_type": "code",
   "execution_count": 9,
   "id": "f1a05181",
   "metadata": {
    "ExecuteTime": {
     "end_time": "2021-12-06T14:12:55.619602Z",
     "start_time": "2021-12-06T14:12:55.615374Z"
    }
   },
   "outputs": [
    {
     "data": {
      "text/plain": [
       "int"
      ]
     },
     "execution_count": 9,
     "metadata": {},
     "output_type": "execute_result"
    }
   ],
   "source": [
    "a = 1\n",
    "type(a)"
   ]
  },
  {
   "cell_type": "code",
   "execution_count": 11,
   "id": "ac0dad51",
   "metadata": {
    "ExecuteTime": {
     "end_time": "2021-12-06T14:13:22.778792Z",
     "start_time": "2021-12-06T14:13:22.774468Z"
    }
   },
   "outputs": [
    {
     "data": {
      "text/plain": [
       "bool"
      ]
     },
     "execution_count": 11,
     "metadata": {},
     "output_type": "execute_result"
    }
   ],
   "source": [
    "a = True\n",
    "type(a)"
   ]
  },
  {
   "cell_type": "markdown",
   "id": "80693992",
   "metadata": {},
   "source": [
    "Python的这个特性体现了Python语言的动态性"
   ]
  },
  {
   "cell_type": "markdown",
   "id": "be30a95b",
   "metadata": {},
   "source": [
    "### 内建集合数据类型"
   ]
  },
  {
   "cell_type": "markdown",
   "id": "38ccca80",
   "metadata": {},
   "source": [
    "有序集合：列表，元组，字符串"
   ]
  },
  {
   "cell_type": "markdown",
   "id": "7dff0b13",
   "metadata": {
    "ExecuteTime": {
     "end_time": "2021-12-06T14:16:19.308389Z",
     "start_time": "2021-12-06T14:16:19.305062Z"
    }
   },
   "source": [
    "#### 列表"
   ]
  },
  {
   "cell_type": "code",
   "execution_count": 15,
   "id": "166bd76a",
   "metadata": {
    "ExecuteTime": {
     "end_time": "2021-12-06T14:21:36.256709Z",
     "start_time": "2021-12-06T14:21:36.250664Z"
    }
   },
   "outputs": [
    {
     "data": {
      "text/plain": [
       "'\\n[] 取元素中的某个值\\n+ 将两个列表连接到一起\\n* 将列表重复N次数\\nin 判断列表中有没有某一元素\\nlen 获得列表中的元素个数（列表的长度）\\n[:] 区中序列中的某一部分\\n'"
      ]
     },
     "execution_count": 15,
     "metadata": {},
     "output_type": "execute_result"
    }
   ],
   "source": [
    "\"\"\"\n",
    "列表提供的运算符：\n",
    "1. [] 取元素中的某个值\n",
    "2. + 将两个列表连接到一起\n",
    "3. * 将列表重复N次数\n",
    "4. in 判断列表中有没有某一元素,返回值为布尔类型\n",
    "5. len 获得列表中的元素个数（列表的长度）\n",
    "6. [:] 区中序列中的某一部分\n",
    "\"\"\""
   ]
  },
  {
   "cell_type": "code",
   "execution_count": 17,
   "id": "b9b7642b",
   "metadata": {
    "ExecuteTime": {
     "end_time": "2021-12-06T14:22:12.527400Z",
     "start_time": "2021-12-06T14:22:12.523461Z"
    }
   },
   "outputs": [
    {
     "data": {
      "text/plain": [
       "[0, 0, 0, 0, 0, 0]"
      ]
     },
     "execution_count": 17,
     "metadata": {},
     "output_type": "execute_result"
    }
   ],
   "source": [
    "myList = [0] * 6\n",
    "myList"
   ]
  },
  {
   "cell_type": "code",
   "execution_count": 18,
   "id": "c989d84a",
   "metadata": {
    "ExecuteTime": {
     "end_time": "2021-12-06T14:22:48.925697Z",
     "start_time": "2021-12-06T14:22:48.921758Z"
    }
   },
   "outputs": [
    {
     "data": {
      "text/plain": [
       "0"
      ]
     },
     "execution_count": 18,
     "metadata": {},
     "output_type": "execute_result"
    }
   ],
   "source": [
    "myList[1]"
   ]
  },
  {
   "cell_type": "code",
   "execution_count": 19,
   "id": "944bd14f",
   "metadata": {
    "ExecuteTime": {
     "end_time": "2021-12-06T14:23:10.563950Z",
     "start_time": "2021-12-06T14:23:10.558975Z"
    }
   },
   "outputs": [
    {
     "data": {
      "text/plain": [
       "[1, 2, 3, 4, 1, 2, 3, 4, 1, 2, 3, 4]"
      ]
     },
     "execution_count": 19,
     "metadata": {},
     "output_type": "execute_result"
    }
   ],
   "source": [
    "myList = [1,2,3,4]\n",
    "myList * 3"
   ]
  },
  {
   "cell_type": "code",
   "execution_count": 20,
   "id": "ee58845f",
   "metadata": {
    "ExecuteTime": {
     "end_time": "2021-12-06T14:23:36.598709Z",
     "start_time": "2021-12-06T14:23:36.594679Z"
    }
   },
   "outputs": [
    {
     "data": {
      "text/plain": [
       "[[1, 2, 3, 4], [1, 2, 3, 4], [1, 2, 3, 4]]"
      ]
     },
     "execution_count": 20,
     "metadata": {},
     "output_type": "execute_result"
    }
   ],
   "source": [
    "[myList] * 3\n",
    "# 注意两者的区别"
   ]
  },
  {
   "cell_type": "code",
   "execution_count": 21,
   "id": "1f70d3fc",
   "metadata": {
    "ExecuteTime": {
     "end_time": "2021-12-06T14:24:52.582778Z",
     "start_time": "2021-12-06T14:24:52.578513Z"
    }
   },
   "outputs": [
    {
     "data": {
      "text/plain": [
       "[1, 2, 3, 4, 6, 7, 8, 9]"
      ]
     },
     "execution_count": 21,
     "metadata": {},
     "output_type": "execute_result"
    }
   ],
   "source": [
    "myList = [1,2,3,4]\n",
    "yourList = [6,7,8,9]\n",
    "myList + yourList"
   ]
  },
  {
   "cell_type": "code",
   "execution_count": 22,
   "id": "82988f2c",
   "metadata": {
    "ExecuteTime": {
     "end_time": "2021-12-06T14:25:12.445798Z",
     "start_time": "2021-12-06T14:25:12.441442Z"
    }
   },
   "outputs": [
    {
     "data": {
      "text/plain": [
       "[[1, 2, 3, 4], [6, 7, 8, 9]]"
      ]
     },
     "execution_count": 22,
     "metadata": {},
     "output_type": "execute_result"
    }
   ],
   "source": [
    "[myList]+[yourList]"
   ]
  },
  {
   "cell_type": "code",
   "execution_count": 27,
   "id": "382d325c",
   "metadata": {
    "ExecuteTime": {
     "end_time": "2021-12-06T14:30:32.196930Z",
     "start_time": "2021-12-06T14:30:32.192741Z"
    }
   },
   "outputs": [
    {
     "data": {
      "text/plain": [
       "True"
      ]
     },
     "execution_count": 27,
     "metadata": {},
     "output_type": "execute_result"
    }
   ],
   "source": [
    "# 判断某一元素是否在列表中\n",
    "2 in myList"
   ]
  },
  {
   "cell_type": "code",
   "execution_count": 25,
   "id": "1c254eba",
   "metadata": {
    "ExecuteTime": {
     "end_time": "2021-12-06T14:28:16.915024Z",
     "start_time": "2021-12-06T14:28:16.911479Z"
    }
   },
   "outputs": [
    {
     "data": {
      "text/plain": [
       "4"
      ]
     },
     "execution_count": 25,
     "metadata": {},
     "output_type": "execute_result"
    }
   ],
   "source": [
    "len(myList)"
   ]
  },
  {
   "cell_type": "code",
   "execution_count": 26,
   "id": "35a190bb",
   "metadata": {
    "ExecuteTime": {
     "end_time": "2021-12-06T14:28:44.869482Z",
     "start_time": "2021-12-06T14:28:44.865664Z"
    }
   },
   "outputs": [
    {
     "data": {
      "text/plain": [
       "[1, 2, 3, 4]"
      ]
     },
     "execution_count": 26,
     "metadata": {},
     "output_type": "execute_result"
    }
   ],
   "source": [
    "myList[0:4]"
   ]
  },
  {
   "cell_type": "code",
   "execution_count": null,
   "id": "e165fe23",
   "metadata": {},
   "outputs": [],
   "source": [
    "'''\n",
    "列表提供的方法\n",
    "1. append alist.append(item) 在列表末尾添加一个新元素\n",
    "2. insert alist.insert(i,item) 在列表的第 i 个位置插入一个元素\n",
    "3. pop alist.pop() 删除并返回列表中最后一个元素\n",
    "4. pop alist.pop(i) 删除并返回列表中第 i 个位置的元素\n",
    "5. sort alist.sort() 将列表元素排序\n",
    "6. reverse alist.reverse() 将列表元素倒序排列\n",
    "7. del del alist[i] 删除列表中第 i 个位置的元素\n",
    "8. index alist.index(item) 返回 item 第一次出现时的下标\n",
    "9. count alist.count(item) 返回 item 在列表中出现的次数\n",
    "10. remove alist.remove(item) 从列表中移除第一次出现的 item\n",
    "'''"
   ]
  },
  {
   "cell_type": "code",
   "execution_count": 35,
   "id": "76d6c100",
   "metadata": {
    "ExecuteTime": {
     "end_time": "2021-12-06T14:35:25.436779Z",
     "start_time": "2021-12-06T14:35:25.432182Z"
    }
   },
   "outputs": [
    {
     "data": {
      "text/plain": [
       "[1, 2, 3, 4, 5, 6, 7]"
      ]
     },
     "execution_count": 35,
     "metadata": {},
     "output_type": "execute_result"
    }
   ],
   "source": [
    "myList = [1,2,3,4,5,6]\n",
    "myList.append(7)\n",
    "myList"
   ]
  },
  {
   "cell_type": "code",
   "execution_count": 41,
   "id": "4d8b94b2",
   "metadata": {
    "ExecuteTime": {
     "end_time": "2021-12-06T14:39:16.889612Z",
     "start_time": "2021-12-06T14:39:16.885728Z"
    }
   },
   "outputs": [
    {
     "data": {
      "text/plain": [
       "[1, 2, 3, 4, 5, 6, 8, 8, 7]"
      ]
     },
     "execution_count": 41,
     "metadata": {},
     "output_type": "execute_result"
    }
   ],
   "source": [
    "myList.insert(6,8)\n",
    "myList"
   ]
  },
  {
   "cell_type": "code",
   "execution_count": 42,
   "id": "16f792c3",
   "metadata": {
    "ExecuteTime": {
     "end_time": "2021-12-06T14:39:38.806163Z",
     "start_time": "2021-12-06T14:39:38.802602Z"
    }
   },
   "outputs": [
    {
     "data": {
      "text/plain": [
       "8"
      ]
     },
     "execution_count": 42,
     "metadata": {},
     "output_type": "execute_result"
    }
   ],
   "source": [
    "myList.pop(6)"
   ]
  },
  {
   "cell_type": "code",
   "execution_count": 45,
   "id": "bf5c6388",
   "metadata": {
    "ExecuteTime": {
     "end_time": "2021-12-06T14:40:01.494064Z",
     "start_time": "2021-12-06T14:40:01.490219Z"
    }
   },
   "outputs": [
    {
     "data": {
      "text/plain": [
       "[1, 2, 3, 4, 5, 6, 7, 8]"
      ]
     },
     "execution_count": 45,
     "metadata": {},
     "output_type": "execute_result"
    }
   ],
   "source": [
    "myList.sort()\n",
    "myList"
   ]
  },
  {
   "cell_type": "code",
   "execution_count": 46,
   "id": "6282939f",
   "metadata": {
    "ExecuteTime": {
     "end_time": "2021-12-06T14:40:15.003971Z",
     "start_time": "2021-12-06T14:40:15.000298Z"
    }
   },
   "outputs": [
    {
     "data": {
      "text/plain": [
       "8"
      ]
     },
     "execution_count": 46,
     "metadata": {},
     "output_type": "execute_result"
    }
   ],
   "source": [
    "myList.pop()"
   ]
  },
  {
   "cell_type": "code",
   "execution_count": 47,
   "id": "674d6085",
   "metadata": {
    "ExecuteTime": {
     "end_time": "2021-12-06T14:40:29.645226Z",
     "start_time": "2021-12-06T14:40:29.641269Z"
    }
   },
   "outputs": [
    {
     "data": {
      "text/plain": [
       "[7, 6, 5, 4, 3, 2, 1]"
      ]
     },
     "execution_count": 47,
     "metadata": {},
     "output_type": "execute_result"
    }
   ],
   "source": [
    "myList.reverse()\n",
    "myList"
   ]
  },
  {
   "cell_type": "code",
   "execution_count": 48,
   "id": "2bfafdae",
   "metadata": {
    "ExecuteTime": {
     "end_time": "2021-12-06T14:40:51.150672Z",
     "start_time": "2021-12-06T14:40:51.147013Z"
    }
   },
   "outputs": [
    {
     "data": {
      "text/plain": [
       "5"
      ]
     },
     "execution_count": 48,
     "metadata": {},
     "output_type": "execute_result"
    }
   ],
   "source": [
    "myList.index(2)"
   ]
  },
  {
   "cell_type": "code",
   "execution_count": 52,
   "id": "3f92f6c9",
   "metadata": {
    "ExecuteTime": {
     "end_time": "2021-12-06T14:42:33.964012Z",
     "start_time": "2021-12-06T14:42:33.960440Z"
    }
   },
   "outputs": [
    {
     "data": {
      "text/plain": [
       "1"
      ]
     },
     "execution_count": 52,
     "metadata": {},
     "output_type": "execute_result"
    }
   ],
   "source": [
    "myList.count(2) # 统计某一元素出现的次数"
   ]
  },
  {
   "cell_type": "code",
   "execution_count": 53,
   "id": "19c2b144",
   "metadata": {
    "ExecuteTime": {
     "end_time": "2021-12-06T14:43:09.224112Z",
     "start_time": "2021-12-06T14:43:09.220309Z"
    }
   },
   "outputs": [
    {
     "data": {
      "text/plain": [
       "[7, 5, 4, 3, 2, 1]"
      ]
     },
     "execution_count": 53,
     "metadata": {},
     "output_type": "execute_result"
    }
   ],
   "source": [
    "myList.remove(6) # 移除第一次出现的某个元素\n",
    "myList"
   ]
  },
  {
   "cell_type": "code",
   "execution_count": 54,
   "id": "f5de63fe",
   "metadata": {
    "ExecuteTime": {
     "end_time": "2021-12-06T14:44:32.293503Z",
     "start_time": "2021-12-06T14:44:32.289701Z"
    }
   },
   "outputs": [
    {
     "data": {
      "text/plain": [
       "[5, 4, 3, 2, 1]"
      ]
     },
     "execution_count": 54,
     "metadata": {},
     "output_type": "execute_result"
    }
   ],
   "source": [
    "del myList[0]\n",
    "myList"
   ]
  },
  {
   "cell_type": "markdown",
   "id": "749319ae",
   "metadata": {},
   "source": [
    "range( )与列表结合讨论,range生成的是代表值序列的范围对象，使用list函数就可以用列表的形式看到这个范围对象的值"
   ]
  },
  {
   "cell_type": "code",
   "execution_count": 55,
   "id": "1451a397",
   "metadata": {
    "ExecuteTime": {
     "end_time": "2021-12-06T14:47:18.856069Z",
     "start_time": "2021-12-06T14:47:18.852527Z"
    }
   },
   "outputs": [
    {
     "data": {
      "text/plain": [
       "range(0, 10)"
      ]
     },
     "execution_count": 55,
     "metadata": {},
     "output_type": "execute_result"
    }
   ],
   "source": [
    "range(10)"
   ]
  },
  {
   "cell_type": "code",
   "execution_count": 56,
   "id": "4c9a929b",
   "metadata": {
    "ExecuteTime": {
     "end_time": "2021-12-06T14:47:28.797389Z",
     "start_time": "2021-12-06T14:47:28.793386Z"
    }
   },
   "outputs": [
    {
     "data": {
      "text/plain": [
       "[0, 1, 2, 3, 4, 5, 6, 7, 8, 9]"
      ]
     },
     "execution_count": 56,
     "metadata": {},
     "output_type": "execute_result"
    }
   ],
   "source": [
    "list(range(10))"
   ]
  },
  {
   "cell_type": "code",
   "execution_count": 57,
   "id": "e939cb6f",
   "metadata": {
    "ExecuteTime": {
     "end_time": "2021-12-06T14:47:53.200019Z",
     "start_time": "2021-12-06T14:47:53.195807Z"
    }
   },
   "outputs": [
    {
     "data": {
      "text/plain": [
       "[5, 6, 7, 8, 9]"
      ]
     },
     "execution_count": 57,
     "metadata": {},
     "output_type": "execute_result"
    }
   ],
   "source": [
    "list(range(5,10))"
   ]
  },
  {
   "cell_type": "code",
   "execution_count": 61,
   "id": "14068c54",
   "metadata": {
    "ExecuteTime": {
     "end_time": "2021-12-06T14:50:04.875823Z",
     "start_time": "2021-12-06T14:50:04.870173Z"
    }
   },
   "outputs": [
    {
     "data": {
      "text/plain": [
       "[1, 3, 5, 7, 9]"
      ]
     },
     "execution_count": 61,
     "metadata": {},
     "output_type": "execute_result"
    }
   ],
   "source": [
    "list(range(1,10,2)) # 三个参数分别代表其实值，哪个值前停止，步长"
   ]
  },
  {
   "cell_type": "code",
   "execution_count": 60,
   "id": "345eafa4",
   "metadata": {
    "ExecuteTime": {
     "end_time": "2021-12-06T14:49:03.421136Z",
     "start_time": "2021-12-06T14:49:03.416835Z"
    }
   },
   "outputs": [
    {
     "data": {
      "text/plain": [
       "[10, 9, 8, 7, 6, 5, 4, 3, 2]"
      ]
     },
     "execution_count": 60,
     "metadata": {},
     "output_type": "execute_result"
    }
   ],
   "source": [
    "# 倒序输出\n",
    "list(range(10,1,-1))"
   ]
  },
  {
   "cell_type": "markdown",
   "id": "e2b5d95d",
   "metadata": {
    "ExecuteTime": {
     "end_time": "2021-12-06T14:51:33.672905Z",
     "start_time": "2021-12-06T14:51:33.669343Z"
    }
   },
   "source": [
    "#### 字符串"
   ]
  },
  {
   "cell_type": "code",
   "execution_count": 63,
   "id": "efa87e3c",
   "metadata": {
    "ExecuteTime": {
     "end_time": "2021-12-06T14:57:14.104755Z",
     "start_time": "2021-12-06T14:57:14.101994Z"
    }
   },
   "outputs": [],
   "source": [
    "# 字符串和列表一样都是序列，所以字符串也可以用和列表一样的运算符\n",
    "str = \"David\""
   ]
  },
  {
   "cell_type": "code",
   "execution_count": 68,
   "id": "0aa06c8d",
   "metadata": {
    "ExecuteTime": {
     "end_time": "2021-12-06T14:58:38.059462Z",
     "start_time": "2021-12-06T14:58:38.055830Z"
    }
   },
   "outputs": [
    {
     "data": {
      "text/plain": [
       "'i'"
      ]
     },
     "execution_count": 68,
     "metadata": {},
     "output_type": "execute_result"
    }
   ],
   "source": [
    "str[3]"
   ]
  },
  {
   "cell_type": "code",
   "execution_count": 71,
   "id": "eeeccea6",
   "metadata": {
    "ExecuteTime": {
     "end_time": "2021-12-06T15:00:09.210733Z",
     "start_time": "2021-12-06T15:00:09.207152Z"
    }
   },
   "outputs": [
    {
     "data": {
      "text/plain": [
       "True"
      ]
     },
     "execution_count": 71,
     "metadata": {},
     "output_type": "execute_result"
    }
   ],
   "source": [
    "'i' in str"
   ]
  },
  {
   "cell_type": "code",
   "execution_count": null,
   "id": "63115425",
   "metadata": {},
   "outputs": [],
   "source": []
  },
  {
   "cell_type": "code",
   "execution_count": null,
   "id": "f69ac4ab",
   "metadata": {},
   "outputs": [],
   "source": []
  },
  {
   "cell_type": "code",
   "execution_count": null,
   "id": "2f403085",
   "metadata": {},
   "outputs": [],
   "source": []
  },
  {
   "cell_type": "code",
   "execution_count": null,
   "id": "992cbd0b",
   "metadata": {},
   "outputs": [],
   "source": []
  },
  {
   "cell_type": "code",
   "execution_count": null,
   "id": "3563f692",
   "metadata": {},
   "outputs": [],
   "source": []
  },
  {
   "cell_type": "code",
   "execution_count": null,
   "id": "0f4318b4",
   "metadata": {},
   "outputs": [],
   "source": []
  },
  {
   "cell_type": "code",
   "execution_count": null,
   "id": "adf36bbd",
   "metadata": {},
   "outputs": [],
   "source": []
  },
  {
   "cell_type": "code",
   "execution_count": null,
   "id": "e03d0420",
   "metadata": {},
   "outputs": [],
   "source": []
  },
  {
   "cell_type": "code",
   "execution_count": null,
   "id": "d1c45090",
   "metadata": {},
   "outputs": [],
   "source": []
  },
  {
   "cell_type": "code",
   "execution_count": null,
   "id": "8f96985b",
   "metadata": {},
   "outputs": [],
   "source": []
  },
  {
   "cell_type": "code",
   "execution_count": null,
   "id": "c24f985e",
   "metadata": {},
   "outputs": [],
   "source": []
  },
  {
   "cell_type": "code",
   "execution_count": null,
   "id": "8bdeccb4",
   "metadata": {},
   "outputs": [],
   "source": []
  },
  {
   "cell_type": "code",
   "execution_count": null,
   "id": "10462d82",
   "metadata": {},
   "outputs": [],
   "source": []
  },
  {
   "cell_type": "code",
   "execution_count": null,
   "id": "96324099",
   "metadata": {},
   "outputs": [],
   "source": []
  },
  {
   "cell_type": "markdown",
   "id": "ec018915",
   "metadata": {},
   "source": [
    "## 继承"
   ]
  },
  {
   "cell_type": "markdown",
   "id": "f209610a",
   "metadata": {
    "ExecuteTime": {
     "end_time": "2021-12-06T13:42:01.573322Z",
     "start_time": "2021-12-06T13:42:01.506030Z"
    }
   },
   "source": [
    "### 模拟逻辑门的实现"
   ]
  }
 ],
 "metadata": {
  "kernelspec": {
   "display_name": "Python 3 (ipykernel)",
   "language": "python",
   "name": "python3"
  },
  "language_info": {
   "codemirror_mode": {
    "name": "ipython",
    "version": 3
   },
   "file_extension": ".py",
   "mimetype": "text/x-python",
   "name": "python",
   "nbconvert_exporter": "python",
   "pygments_lexer": "ipython3",
   "version": "3.8.12"
  },
  "toc": {
   "base_numbering": 1,
   "nav_menu": {},
   "number_sections": true,
   "sideBar": true,
   "skip_h1_title": false,
   "title_cell": "Table of Contents",
   "title_sidebar": "Contents",
   "toc_cell": false,
   "toc_position": {},
   "toc_section_display": true,
   "toc_window_display": true
  },
  "varInspector": {
   "cols": {
    "lenName": 16,
    "lenType": 16,
    "lenVar": 40
   },
   "kernels_config": {
    "python": {
     "delete_cmd_postfix": "",
     "delete_cmd_prefix": "del ",
     "library": "var_list.py",
     "varRefreshCmd": "print(var_dic_list())"
    },
    "r": {
     "delete_cmd_postfix": ") ",
     "delete_cmd_prefix": "rm(",
     "library": "var_list.r",
     "varRefreshCmd": "cat(var_dic_list()) "
    }
   },
   "types_to_exclude": [
    "module",
    "function",
    "builtin_function_or_method",
    "instance",
    "_Feature"
   ],
   "window_display": false
  }
 },
 "nbformat": 4,
 "nbformat_minor": 5
}
