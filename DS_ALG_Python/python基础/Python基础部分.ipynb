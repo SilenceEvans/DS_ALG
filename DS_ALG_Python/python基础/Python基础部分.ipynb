{
 "cells": [
  {
   "cell_type": "markdown",
   "id": "3f2d7e67",
   "metadata": {},
   "source": [
    "# Python基础"
   ]
  },
  {
   "cell_type": "markdown",
   "id": "23add991",
   "metadata": {},
   "source": [
    "## 数据"
   ]
  },
  {
   "cell_type": "markdown",
   "id": "ef0e2b5b",
   "metadata": {
    "ExecuteTime": {
     "end_time": "2021-12-06T14:00:16.592204Z",
     "start_time": "2021-12-06T14:00:16.585227Z"
    }
   },
   "source": [
    "### 原子数据类型"
   ]
  },
  {
   "cell_type": "markdown",
   "id": "50f31abe",
   "metadata": {},
   "source": [
    "'+'、'-'、' * '、 '/'、取幂' **' 、取余'%'、整除'//'"
   ]
  },
  {
   "cell_type": "code",
   "execution_count": 4,
   "id": "3dda1ba6",
   "metadata": {
    "ExecuteTime": {
     "end_time": "2021-12-06T14:04:24.098937Z",
     "start_time": "2021-12-06T14:04:24.091469Z"
    }
   },
   "outputs": [
    {
     "data": {
      "text/plain": [
       "2.3333333333333335"
      ]
     },
     "execution_count": 4,
     "metadata": {},
     "output_type": "execute_result"
    }
   ],
   "source": [
    "7/3"
   ]
  },
  {
   "cell_type": "code",
   "execution_count": 6,
   "id": "a208e6b2",
   "metadata": {
    "ExecuteTime": {
     "end_time": "2021-12-06T14:04:54.424969Z",
     "start_time": "2021-12-06T14:04:54.421269Z"
    }
   },
   "outputs": [
    {
     "data": {
      "text/plain": [
       "2"
      ]
     },
     "execution_count": 6,
     "metadata": {},
     "output_type": "execute_result"
    }
   ],
   "source": [
    "7//3 #只保留整数部分"
   ]
  },
  {
   "cell_type": "code",
   "execution_count": 7,
   "id": "800d0fef",
   "metadata": {
    "ExecuteTime": {
     "end_time": "2021-12-06T14:07:02.367753Z",
     "start_time": "2021-12-06T14:07:02.357957Z"
    }
   },
   "outputs": [
    {
     "data": {
      "text/plain": [
       "16"
      ]
     },
     "execution_count": 7,
     "metadata": {},
     "output_type": "execute_result"
    }
   ],
   "source": [
    "2 ** 4"
   ]
  },
  {
   "cell_type": "markdown",
   "id": "83e578c1",
   "metadata": {
    "ExecuteTime": {
     "end_time": "2021-12-06T14:09:55.350874Z",
     "start_time": "2021-12-06T14:09:55.345970Z"
    }
   },
   "source": [
    "### 赋值语句、变量的引用"
   ]
  },
  {
   "cell_type": "markdown",
   "id": "6fe678e2",
   "metadata": {},
   "source": [
    "Python 会先计算赋值运算符右边的表达式，然后将指向该结果数据对象的引用赋给左边的变量名。右边的数据类型是什么类型什么类型，变量就是什么类型，如果右边的数据类型发生改变，左边的变量类型也会发生改变"
   ]
  },
  {
   "cell_type": "code",
   "execution_count": 9,
   "id": "d9176523",
   "metadata": {
    "ExecuteTime": {
     "end_time": "2021-12-06T14:12:55.619602Z",
     "start_time": "2021-12-06T14:12:55.615374Z"
    }
   },
   "outputs": [
    {
     "data": {
      "text/plain": [
       "int"
      ]
     },
     "execution_count": 9,
     "metadata": {},
     "output_type": "execute_result"
    }
   ],
   "source": [
    "a = 1\n",
    "type(a)"
   ]
  },
  {
   "cell_type": "code",
   "execution_count": 11,
   "id": "7238d504",
   "metadata": {
    "ExecuteTime": {
     "end_time": "2021-12-06T14:13:22.778792Z",
     "start_time": "2021-12-06T14:13:22.774468Z"
    }
   },
   "outputs": [
    {
     "data": {
      "text/plain": [
       "bool"
      ]
     },
     "execution_count": 11,
     "metadata": {},
     "output_type": "execute_result"
    }
   ],
   "source": [
    "a = True\n",
    "type(a)"
   ]
  },
  {
   "cell_type": "markdown",
   "id": "68933ebf",
   "metadata": {},
   "source": [
    "Python的这个特性体现了Python语言的动态性"
   ]
  },
  {
   "cell_type": "markdown",
   "id": "bda663d1",
   "metadata": {},
   "source": [
    "### 内建集合数据类型"
   ]
  },
  {
   "cell_type": "markdown",
   "id": "6cdd2f66",
   "metadata": {},
   "source": [
    "**有序集合：列表，元组，字符串**"
   ]
  },
  {
   "cell_type": "markdown",
   "id": "f5892143",
   "metadata": {
    "ExecuteTime": {
     "end_time": "2021-12-06T14:16:19.308389Z",
     "start_time": "2021-12-06T14:16:19.305062Z"
    }
   },
   "source": [
    "#### 列表"
   ]
  },
  {
   "cell_type": "markdown",
   "id": "561b6c83",
   "metadata": {
    "ExecuteTime": {
     "end_time": "2021-12-06T14:21:36.256709Z",
     "start_time": "2021-12-06T14:21:36.250664Z"
    }
   },
   "source": [
    "**列表提供的运算符：**\n",
    "\n",
    "|运算符|解释|\n",
    "|:------:|:------:|\n",
    "|[]|取元素中的某个值|\n",
    "|+|将两个列表连接到一起|\n",
    "|*|将列表重复N次数|\n",
    "|in|判断列表中有没有某一元素,返回值为布尔类型|\n",
    "|len|获得列表中的元素个数（列表的长度）|\n",
    "|[:]|区中序列中的某一部分|"
   ]
  },
  {
   "cell_type": "code",
   "execution_count": 17,
   "id": "64ebaed5",
   "metadata": {
    "ExecuteTime": {
     "end_time": "2021-12-06T14:22:12.527400Z",
     "start_time": "2021-12-06T14:22:12.523461Z"
    }
   },
   "outputs": [
    {
     "data": {
      "text/plain": [
       "[0, 0, 0, 0, 0, 0]"
      ]
     },
     "execution_count": 17,
     "metadata": {},
     "output_type": "execute_result"
    }
   ],
   "source": [
    "myList = [0] * 6\n",
    "myList"
   ]
  },
  {
   "cell_type": "code",
   "execution_count": 18,
   "id": "6fa91b09",
   "metadata": {
    "ExecuteTime": {
     "end_time": "2021-12-06T14:22:48.925697Z",
     "start_time": "2021-12-06T14:22:48.921758Z"
    }
   },
   "outputs": [
    {
     "data": {
      "text/plain": [
       "0"
      ]
     },
     "execution_count": 18,
     "metadata": {},
     "output_type": "execute_result"
    }
   ],
   "source": [
    "myList[1]"
   ]
  },
  {
   "cell_type": "code",
   "execution_count": 19,
   "id": "a781e474",
   "metadata": {
    "ExecuteTime": {
     "end_time": "2021-12-06T14:23:10.563950Z",
     "start_time": "2021-12-06T14:23:10.558975Z"
    }
   },
   "outputs": [
    {
     "data": {
      "text/plain": [
       "[1, 2, 3, 4, 1, 2, 3, 4, 1, 2, 3, 4]"
      ]
     },
     "execution_count": 19,
     "metadata": {},
     "output_type": "execute_result"
    }
   ],
   "source": [
    "myList = [1,2,3,4]\n",
    "myList * 3"
   ]
  },
  {
   "cell_type": "code",
   "execution_count": 20,
   "id": "e4cf35e1",
   "metadata": {
    "ExecuteTime": {
     "end_time": "2021-12-06T14:23:36.598709Z",
     "start_time": "2021-12-06T14:23:36.594679Z"
    }
   },
   "outputs": [
    {
     "data": {
      "text/plain": [
       "[[1, 2, 3, 4], [1, 2, 3, 4], [1, 2, 3, 4]]"
      ]
     },
     "execution_count": 20,
     "metadata": {},
     "output_type": "execute_result"
    }
   ],
   "source": [
    "[myList] * 3\n",
    "# 注意两者的区别"
   ]
  },
  {
   "cell_type": "code",
   "execution_count": 21,
   "id": "42864465",
   "metadata": {
    "ExecuteTime": {
     "end_time": "2021-12-06T14:24:52.582778Z",
     "start_time": "2021-12-06T14:24:52.578513Z"
    }
   },
   "outputs": [
    {
     "data": {
      "text/plain": [
       "[1, 2, 3, 4, 6, 7, 8, 9]"
      ]
     },
     "execution_count": 21,
     "metadata": {},
     "output_type": "execute_result"
    }
   ],
   "source": [
    "myList = [1,2,3,4]\n",
    "yourList = [6,7,8,9]\n",
    "myList + yourList"
   ]
  },
  {
   "cell_type": "code",
   "execution_count": 22,
   "id": "51fe572b",
   "metadata": {
    "ExecuteTime": {
     "end_time": "2021-12-06T14:25:12.445798Z",
     "start_time": "2021-12-06T14:25:12.441442Z"
    }
   },
   "outputs": [
    {
     "data": {
      "text/plain": [
       "[[1, 2, 3, 4], [6, 7, 8, 9]]"
      ]
     },
     "execution_count": 22,
     "metadata": {},
     "output_type": "execute_result"
    }
   ],
   "source": [
    "[myList]+[yourList]"
   ]
  },
  {
   "cell_type": "code",
   "execution_count": 27,
   "id": "9a9dce05",
   "metadata": {
    "ExecuteTime": {
     "end_time": "2021-12-06T14:30:32.196930Z",
     "start_time": "2021-12-06T14:30:32.192741Z"
    }
   },
   "outputs": [
    {
     "data": {
      "text/plain": [
       "True"
      ]
     },
     "execution_count": 27,
     "metadata": {},
     "output_type": "execute_result"
    }
   ],
   "source": [
    "# 判断某一元素是否在列表中\n",
    "2 in myList"
   ]
  },
  {
   "cell_type": "code",
   "execution_count": 25,
   "id": "11772fe3",
   "metadata": {
    "ExecuteTime": {
     "end_time": "2021-12-06T14:28:16.915024Z",
     "start_time": "2021-12-06T14:28:16.911479Z"
    }
   },
   "outputs": [
    {
     "data": {
      "text/plain": [
       "4"
      ]
     },
     "execution_count": 25,
     "metadata": {},
     "output_type": "execute_result"
    }
   ],
   "source": [
    "len(myList)"
   ]
  },
  {
   "cell_type": "code",
   "execution_count": 26,
   "id": "f052f722",
   "metadata": {
    "ExecuteTime": {
     "end_time": "2021-12-06T14:28:44.869482Z",
     "start_time": "2021-12-06T14:28:44.865664Z"
    }
   },
   "outputs": [
    {
     "data": {
      "text/plain": [
       "[1, 2, 3, 4]"
      ]
     },
     "execution_count": 26,
     "metadata": {},
     "output_type": "execute_result"
    }
   ],
   "source": [
    "myList[0:4]"
   ]
  },
  {
   "cell_type": "markdown",
   "id": "9d21013e",
   "metadata": {},
   "source": [
    "**列表提供的方法**\n",
    "\n",
    "|方法名|用法|解释|\n",
    "|------|------|------|\n",
    "|append|alist.append(item)|在列表末尾添加一个新元素|\n",
    "|insert|alist.insert(i,item)|在列表的第 i 个位置插入一个元素|\n",
    "|pop|alist.pop()| 删除并返回列表中最后一个元素|\n",
    "|pop|alist.pop(i)|删除并返回列表中第 i 个位置的元素|\n",
    "|sort|alist.sort()|将列表元素排序|\n",
    "|reverse|alist.reverse()|将列表元素倒序排列|\n",
    "|del|del|alist[i]|删除列表中第 i 个位置的元素|\n",
    "|index|alist.index(item)|返回 item 第一次出现时的下标|\n",
    "|count|alist.count(item)|返回 item 在列表中出现的次数|\n",
    "|remove|alist.remove(item)|从列表中移除第一次出现的item|"
   ]
  },
  {
   "cell_type": "code",
   "execution_count": 35,
   "id": "7466f5d3",
   "metadata": {
    "ExecuteTime": {
     "end_time": "2021-12-06T14:35:25.436779Z",
     "start_time": "2021-12-06T14:35:25.432182Z"
    }
   },
   "outputs": [
    {
     "data": {
      "text/plain": [
       "[1, 2, 3, 4, 5, 6, 7]"
      ]
     },
     "execution_count": 35,
     "metadata": {},
     "output_type": "execute_result"
    }
   ],
   "source": [
    "myList = [1,2,3,4,5,6]\n",
    "myList.append(7)\n",
    "myList"
   ]
  },
  {
   "cell_type": "code",
   "execution_count": 41,
   "id": "f8700aa6",
   "metadata": {
    "ExecuteTime": {
     "end_time": "2021-12-06T14:39:16.889612Z",
     "start_time": "2021-12-06T14:39:16.885728Z"
    }
   },
   "outputs": [
    {
     "data": {
      "text/plain": [
       "[1, 2, 3, 4, 5, 6, 8, 8, 7]"
      ]
     },
     "execution_count": 41,
     "metadata": {},
     "output_type": "execute_result"
    }
   ],
   "source": [
    "myList.insert(6,8)\n",
    "myList"
   ]
  },
  {
   "cell_type": "code",
   "execution_count": 42,
   "id": "c48f4e0a",
   "metadata": {
    "ExecuteTime": {
     "end_time": "2021-12-06T14:39:38.806163Z",
     "start_time": "2021-12-06T14:39:38.802602Z"
    }
   },
   "outputs": [
    {
     "data": {
      "text/plain": [
       "8"
      ]
     },
     "execution_count": 42,
     "metadata": {},
     "output_type": "execute_result"
    }
   ],
   "source": [
    "myList.pop(6)"
   ]
  },
  {
   "cell_type": "code",
   "execution_count": 45,
   "id": "dbe08c10",
   "metadata": {
    "ExecuteTime": {
     "end_time": "2021-12-06T14:40:01.494064Z",
     "start_time": "2021-12-06T14:40:01.490219Z"
    }
   },
   "outputs": [
    {
     "data": {
      "text/plain": [
       "[1, 2, 3, 4, 5, 6, 7, 8]"
      ]
     },
     "execution_count": 45,
     "metadata": {},
     "output_type": "execute_result"
    }
   ],
   "source": [
    "myList.sort()\n",
    "myList"
   ]
  },
  {
   "cell_type": "code",
   "execution_count": 46,
   "id": "9bd8ff7e",
   "metadata": {
    "ExecuteTime": {
     "end_time": "2021-12-06T14:40:15.003971Z",
     "start_time": "2021-12-06T14:40:15.000298Z"
    }
   },
   "outputs": [
    {
     "data": {
      "text/plain": [
       "8"
      ]
     },
     "execution_count": 46,
     "metadata": {},
     "output_type": "execute_result"
    }
   ],
   "source": [
    "myList.pop()"
   ]
  },
  {
   "cell_type": "code",
   "execution_count": 47,
   "id": "af565847",
   "metadata": {
    "ExecuteTime": {
     "end_time": "2021-12-06T14:40:29.645226Z",
     "start_time": "2021-12-06T14:40:29.641269Z"
    }
   },
   "outputs": [
    {
     "data": {
      "text/plain": [
       "[7, 6, 5, 4, 3, 2, 1]"
      ]
     },
     "execution_count": 47,
     "metadata": {},
     "output_type": "execute_result"
    }
   ],
   "source": [
    "myList.reverse()\n",
    "myList"
   ]
  },
  {
   "cell_type": "code",
   "execution_count": 48,
   "id": "d776c9a8",
   "metadata": {
    "ExecuteTime": {
     "end_time": "2021-12-06T14:40:51.150672Z",
     "start_time": "2021-12-06T14:40:51.147013Z"
    }
   },
   "outputs": [
    {
     "data": {
      "text/plain": [
       "5"
      ]
     },
     "execution_count": 48,
     "metadata": {},
     "output_type": "execute_result"
    }
   ],
   "source": [
    "myList.index(2)"
   ]
  },
  {
   "cell_type": "code",
   "execution_count": 52,
   "id": "220bb9f1",
   "metadata": {
    "ExecuteTime": {
     "end_time": "2021-12-06T14:42:33.964012Z",
     "start_time": "2021-12-06T14:42:33.960440Z"
    }
   },
   "outputs": [
    {
     "data": {
      "text/plain": [
       "1"
      ]
     },
     "execution_count": 52,
     "metadata": {},
     "output_type": "execute_result"
    }
   ],
   "source": [
    "myList.count(2) # 统计某一元素出现的次数"
   ]
  },
  {
   "cell_type": "code",
   "execution_count": 53,
   "id": "fc6b5337",
   "metadata": {
    "ExecuteTime": {
     "end_time": "2021-12-06T14:43:09.224112Z",
     "start_time": "2021-12-06T14:43:09.220309Z"
    }
   },
   "outputs": [
    {
     "data": {
      "text/plain": [
       "[7, 5, 4, 3, 2, 1]"
      ]
     },
     "execution_count": 53,
     "metadata": {},
     "output_type": "execute_result"
    }
   ],
   "source": [
    "myList.remove(6) # 移除第一次出现的某个元素\n",
    "myList"
   ]
  },
  {
   "cell_type": "code",
   "execution_count": 54,
   "id": "14e706c5",
   "metadata": {
    "ExecuteTime": {
     "end_time": "2021-12-06T14:44:32.293503Z",
     "start_time": "2021-12-06T14:44:32.289701Z"
    }
   },
   "outputs": [
    {
     "data": {
      "text/plain": [
       "[5, 4, 3, 2, 1]"
      ]
     },
     "execution_count": 54,
     "metadata": {},
     "output_type": "execute_result"
    }
   ],
   "source": [
    "del myList[0]\n",
    "myList"
   ]
  },
  {
   "cell_type": "markdown",
   "id": "00872dde",
   "metadata": {},
   "source": [
    "range( )与列表结合讨论,range生成的是代表值序列的范围对象，使用list函数就可以用列表的形式看到这个范围对象的值"
   ]
  },
  {
   "cell_type": "code",
   "execution_count": 55,
   "id": "24a6cbf9",
   "metadata": {
    "ExecuteTime": {
     "end_time": "2021-12-06T14:47:18.856069Z",
     "start_time": "2021-12-06T14:47:18.852527Z"
    }
   },
   "outputs": [
    {
     "data": {
      "text/plain": [
       "range(0, 10)"
      ]
     },
     "execution_count": 55,
     "metadata": {},
     "output_type": "execute_result"
    }
   ],
   "source": [
    "range(10)"
   ]
  },
  {
   "cell_type": "code",
   "execution_count": 56,
   "id": "e2b664b4",
   "metadata": {
    "ExecuteTime": {
     "end_time": "2021-12-06T14:47:28.797389Z",
     "start_time": "2021-12-06T14:47:28.793386Z"
    }
   },
   "outputs": [
    {
     "data": {
      "text/plain": [
       "[0, 1, 2, 3, 4, 5, 6, 7, 8, 9]"
      ]
     },
     "execution_count": 56,
     "metadata": {},
     "output_type": "execute_result"
    }
   ],
   "source": [
    "list(range(10))"
   ]
  },
  {
   "cell_type": "code",
   "execution_count": 57,
   "id": "29d289f9",
   "metadata": {
    "ExecuteTime": {
     "end_time": "2021-12-06T14:47:53.200019Z",
     "start_time": "2021-12-06T14:47:53.195807Z"
    }
   },
   "outputs": [
    {
     "data": {
      "text/plain": [
       "[5, 6, 7, 8, 9]"
      ]
     },
     "execution_count": 57,
     "metadata": {},
     "output_type": "execute_result"
    }
   ],
   "source": [
    "list(range(5,10))"
   ]
  },
  {
   "cell_type": "code",
   "execution_count": 61,
   "id": "a4b14642",
   "metadata": {
    "ExecuteTime": {
     "end_time": "2021-12-06T14:50:04.875823Z",
     "start_time": "2021-12-06T14:50:04.870173Z"
    }
   },
   "outputs": [
    {
     "data": {
      "text/plain": [
       "[1, 3, 5, 7, 9]"
      ]
     },
     "execution_count": 61,
     "metadata": {},
     "output_type": "execute_result"
    }
   ],
   "source": [
    "list(range(1,10,2)) # 三个参数分别代表其实值，哪个值前停止，步长"
   ]
  },
  {
   "cell_type": "code",
   "execution_count": 60,
   "id": "01c0e11f",
   "metadata": {
    "ExecuteTime": {
     "end_time": "2021-12-06T14:49:03.421136Z",
     "start_time": "2021-12-06T14:49:03.416835Z"
    }
   },
   "outputs": [
    {
     "data": {
      "text/plain": [
       "[10, 9, 8, 7, 6, 5, 4, 3, 2]"
      ]
     },
     "execution_count": 60,
     "metadata": {},
     "output_type": "execute_result"
    }
   ],
   "source": [
    "# 倒序输出\n",
    "list(range(10,1,-1))"
   ]
  },
  {
   "cell_type": "markdown",
   "id": "a6de8548",
   "metadata": {
    "ExecuteTime": {
     "end_time": "2021-12-06T14:51:33.672905Z",
     "start_time": "2021-12-06T14:51:33.669343Z"
    }
   },
   "source": [
    "#### 字符串"
   ]
  },
  {
   "cell_type": "code",
   "execution_count": 63,
   "id": "9d4e3399",
   "metadata": {
    "ExecuteTime": {
     "end_time": "2021-12-06T14:57:14.104755Z",
     "start_time": "2021-12-06T14:57:14.101994Z"
    }
   },
   "outputs": [],
   "source": [
    "# 字符串和列表一样都是序列，所以字符串也可以用和列表一样的运算符\n",
    "str = \"David\""
   ]
  },
  {
   "cell_type": "code",
   "execution_count": 68,
   "id": "a71f6190",
   "metadata": {
    "ExecuteTime": {
     "end_time": "2021-12-06T14:58:38.059462Z",
     "start_time": "2021-12-06T14:58:38.055830Z"
    }
   },
   "outputs": [
    {
     "data": {
      "text/plain": [
       "'i'"
      ]
     },
     "execution_count": 68,
     "metadata": {},
     "output_type": "execute_result"
    }
   ],
   "source": [
    "str[3]"
   ]
  },
  {
   "cell_type": "code",
   "execution_count": 71,
   "id": "aaab8edd",
   "metadata": {
    "ExecuteTime": {
     "end_time": "2021-12-06T15:00:09.210733Z",
     "start_time": "2021-12-06T15:00:09.207152Z"
    }
   },
   "outputs": [
    {
     "data": {
      "text/plain": [
       "True"
      ]
     },
     "execution_count": 71,
     "metadata": {},
     "output_type": "execute_result"
    }
   ],
   "source": [
    "'i' in str"
   ]
  },
  {
   "cell_type": "markdown",
   "id": "f56a6cab",
   "metadata": {},
   "source": [
    "**字符串的一些方法:**\n",
    "\n",
    "|方法名|用法|解释|\n",
    "| :------: | :------: | :------: |\n",
    "|center|astring.center(w)|返回一个字符串，原字符串居中，使用空格填充新字符串，使其长度为 w|\n",
    "|count|astring.count(item)|返回 item 出现的次数|\n",
    "|ljust|astring.ljust(w)|返回一个字符串，将原字符串靠左放置并填充空格至长度 w|\n",
    "|rjust|astring.rjust(w)|返回一个字符串，将原字符串靠右放置并填充空格至长度 w|\n",
    "|lower|astring.lower()|返回均为小写字母的字符串|\n",
    "|upper|astring.upper()|返回均为大写字母的字符串|\n",
    "|find|astring.find(item)|返回 item 第一次出现时的下标|\n",
    "|split|astring.split(schar)|在 schar 位置将字符串分割成子串|"
   ]
  },
  {
   "cell_type": "code",
   "execution_count": 72,
   "id": "6ad76781",
   "metadata": {
    "ExecuteTime": {
     "end_time": "2021-12-07T06:13:43.706756Z",
     "start_time": "2021-12-07T06:13:43.697516Z"
    }
   },
   "outputs": [
    {
     "data": {
      "text/plain": [
       "'  David   '"
      ]
     },
     "execution_count": 72,
     "metadata": {},
     "output_type": "execute_result"
    }
   ],
   "source": [
    "str.center(10)"
   ]
  },
  {
   "cell_type": "code",
   "execution_count": 74,
   "id": "1faa0eac",
   "metadata": {
    "ExecuteTime": {
     "end_time": "2021-12-07T06:14:17.521722Z",
     "start_time": "2021-12-07T06:14:17.517857Z"
    }
   },
   "outputs": [
    {
     "data": {
      "text/plain": [
       "1"
      ]
     },
     "execution_count": 74,
     "metadata": {},
     "output_type": "execute_result"
    }
   ],
   "source": [
    "str.count('i')"
   ]
  },
  {
   "cell_type": "code",
   "execution_count": 75,
   "id": "e7b0997a",
   "metadata": {
    "ExecuteTime": {
     "end_time": "2021-12-07T06:14:37.998422Z",
     "start_time": "2021-12-07T06:14:37.994827Z"
    }
   },
   "outputs": [
    {
     "data": {
      "text/plain": [
       "'David     '"
      ]
     },
     "execution_count": 75,
     "metadata": {},
     "output_type": "execute_result"
    }
   ],
   "source": [
    "str.ljust(10)"
   ]
  },
  {
   "cell_type": "code",
   "execution_count": 76,
   "id": "114e4e63",
   "metadata": {
    "ExecuteTime": {
     "end_time": "2021-12-07T06:14:46.523060Z",
     "start_time": "2021-12-07T06:14:46.519041Z"
    }
   },
   "outputs": [
    {
     "data": {
      "text/plain": [
       "'     David'"
      ]
     },
     "execution_count": 76,
     "metadata": {},
     "output_type": "execute_result"
    }
   ],
   "source": [
    "str.rjust(10)"
   ]
  },
  {
   "cell_type": "code",
   "execution_count": 77,
   "id": "ebf2d892",
   "metadata": {
    "ExecuteTime": {
     "end_time": "2021-12-07T06:15:01.394457Z",
     "start_time": "2021-12-07T06:15:01.390974Z"
    }
   },
   "outputs": [
    {
     "data": {
      "text/plain": [
       "'david'"
      ]
     },
     "execution_count": 77,
     "metadata": {},
     "output_type": "execute_result"
    }
   ],
   "source": [
    "str.lower()"
   ]
  },
  {
   "cell_type": "code",
   "execution_count": 78,
   "id": "b4bfbcf4",
   "metadata": {
    "ExecuteTime": {
     "end_time": "2021-12-07T06:15:09.557716Z",
     "start_time": "2021-12-07T06:15:09.554276Z"
    }
   },
   "outputs": [
    {
     "data": {
      "text/plain": [
       "'DAVID'"
      ]
     },
     "execution_count": 78,
     "metadata": {},
     "output_type": "execute_result"
    }
   ],
   "source": [
    "str.upper()"
   ]
  },
  {
   "cell_type": "code",
   "execution_count": 79,
   "id": "eda8b185",
   "metadata": {
    "ExecuteTime": {
     "end_time": "2021-12-07T06:15:23.029574Z",
     "start_time": "2021-12-07T06:15:23.023653Z"
    }
   },
   "outputs": [
    {
     "data": {
      "text/plain": [
       "3"
      ]
     },
     "execution_count": 79,
     "metadata": {},
     "output_type": "execute_result"
    }
   ],
   "source": [
    "str.find('i')"
   ]
  },
  {
   "cell_type": "code",
   "execution_count": 80,
   "id": "c63acdc6",
   "metadata": {
    "ExecuteTime": {
     "end_time": "2021-12-07T06:15:54.484565Z",
     "start_time": "2021-12-07T06:15:54.480426Z"
    }
   },
   "outputs": [
    {
     "data": {
      "text/plain": [
       "['Dav', 'd']"
      ]
     },
     "execution_count": 80,
     "metadata": {},
     "output_type": "execute_result"
    }
   ],
   "source": [
    "str.split('i')"
   ]
  },
  {
   "cell_type": "code",
   "execution_count": 81,
   "id": "ce318b47",
   "metadata": {
    "ExecuteTime": {
     "end_time": "2021-12-07T06:16:21.191965Z",
     "start_time": "2021-12-07T06:16:21.188166Z"
    }
   },
   "outputs": [
    {
     "data": {
      "text/plain": [
       "['David']"
      ]
     },
     "execution_count": 81,
     "metadata": {},
     "output_type": "execute_result"
    }
   ],
   "source": [
    "str.split()"
   ]
  },
  {
   "cell_type": "markdown",
   "id": "f8f3a7df",
   "metadata": {},
   "source": [
    "如果没有提供分隔字符，那么 split方法将会寻找如制表符、换行符和空格等空白字符"
   ]
  },
  {
   "cell_type": "markdown",
   "id": "46a60af6",
   "metadata": {},
   "source": [
    "列表和字符串的主要区别在于，列表能够被修改，字符串则不能。列表的这一特性被称为可修改性。列表具有可修改性，字符串则不具有。"
   ]
  },
  {
   "cell_type": "markdown",
   "id": "5443be16",
   "metadata": {
    "ExecuteTime": {
     "end_time": "2021-12-07T06:18:40.305699Z",
     "start_time": "2021-12-07T06:18:40.303130Z"
    }
   },
   "source": [
    "#### 元组"
   ]
  },
  {
   "cell_type": "markdown",
   "id": "003679fe",
   "metadata": {},
   "source": [
    "元组和列表一样都是异构数据序列，形式上的主要区别为：\n",
    "\n",
    "- 列表：[ ]\n",
    "\n",
    "- 元组:（）\n",
    "\n",
    "其他的区别为：\n",
    "\n",
    "- 列表能够被修改，字符串和元元组则不能。\n",
    "列表的这一特性被称为可修改性。列表具有可修改性，字符串和元组则不具有。"
   ]
  },
  {
   "cell_type": "markdown",
   "id": "c3718919",
   "metadata": {
    "ExecuteTime": {
     "end_time": "2021-12-07T06:28:18.240089Z",
     "start_time": "2021-12-07T06:28:18.236848Z"
    }
   },
   "source": [
    "**无序集合：集、字典**"
   ]
  },
  {
   "cell_type": "markdown",
   "id": "d7192f1b",
   "metadata": {},
   "source": [
    "#### 集"
   ]
  },
  {
   "cell_type": "markdown",
   "id": "b8ed4f0f",
   "metadata": {},
   "source": [
    "集（ set）是由零个或多个不可修改的 Python 数据对象组成的**无序**集合。\n",
    "- 集不允许重复元素，\n",
    "- 并且写成由花括号包含、以逗号分隔的一系列值。\n",
    "- 空集由 set()来表示。\n",
    "- 集是异构的。\n",
    "\n",
    "并且可以通过下面的方法赋给变量。"
   ]
  },
  {
   "cell_type": "markdown",
   "id": "dff2cf2a",
   "metadata": {
    "ExecuteTime": {
     "end_time": "2021-12-07T06:33:32.471121Z",
     "start_time": "2021-12-07T06:33:32.466805Z"
    }
   },
   "source": [
    "**集支持的运算：**\n",
    "\n",
    "|运算名|运算符|解释|\n",
    "|:------:|:------:|:------:|\n",
    "|成员|in |询问集中是否有某元素|\n",
    "|长度|len| 获取集的元素个数|\n",
    "|丨|aset 丨 otherset| 返回一个包含 aset 与 otherset 所有元素的新集|\n",
    "|&|aset & otherset| 返回一个包含 aset 与 otherset 共有元素的新集|\n",
    "|-|aset - otherset| 返回一个集，其中包含只出现在 aset 中的元素|\n",
    "|<=| aset <= otherset| 询问 aset 中的所有元素是否都在 otherset 中|"
   ]
  },
  {
   "cell_type": "code",
   "execution_count": 85,
   "id": "b38906f1",
   "metadata": {
    "ExecuteTime": {
     "end_time": "2021-12-07T06:37:20.577890Z",
     "start_time": "2021-12-07T06:37:20.575251Z"
    }
   },
   "outputs": [],
   "source": [
    "mySet = {3, 6, \"cat\", 4.5, False}"
   ]
  },
  {
   "cell_type": "code",
   "execution_count": 86,
   "id": "8d2274de",
   "metadata": {
    "ExecuteTime": {
     "end_time": "2021-12-07T06:51:01.461308Z",
     "start_time": "2021-12-07T06:51:01.455639Z"
    }
   },
   "outputs": [
    {
     "data": {
      "text/plain": [
       "5"
      ]
     },
     "execution_count": 86,
     "metadata": {},
     "output_type": "execute_result"
    }
   ],
   "source": [
    "len(mySet)"
   ]
  },
  {
   "cell_type": "code",
   "execution_count": 88,
   "id": "46898f5f",
   "metadata": {
    "ExecuteTime": {
     "end_time": "2021-12-07T06:51:28.355362Z",
     "start_time": "2021-12-07T06:51:28.349596Z"
    }
   },
   "outputs": [
    {
     "data": {
      "text/plain": [
       "True"
      ]
     },
     "execution_count": 88,
     "metadata": {},
     "output_type": "execute_result"
    }
   ],
   "source": [
    "6 in mySet"
   ]
  },
  {
   "cell_type": "code",
   "execution_count": 89,
   "id": "9c8adc3c",
   "metadata": {
    "ExecuteTime": {
     "end_time": "2021-12-07T06:52:39.726333Z",
     "start_time": "2021-12-07T06:52:39.723725Z"
    }
   },
   "outputs": [],
   "source": [
    "subSet = {3,5,\"dog\",4.5}"
   ]
  },
  {
   "cell_type": "code",
   "execution_count": 92,
   "id": "4762c679",
   "metadata": {
    "ExecuteTime": {
     "end_time": "2021-12-07T06:53:13.926057Z",
     "start_time": "2021-12-07T06:53:13.920071Z"
    }
   },
   "outputs": [
    {
     "data": {
      "text/plain": [
       "{3, 4.5, 5, 6, False, 'cat', 'dog'}"
      ]
     },
     "execution_count": 92,
     "metadata": {},
     "output_type": "execute_result"
    }
   ],
   "source": [
    "subSet | mySet"
   ]
  },
  {
   "cell_type": "code",
   "execution_count": 93,
   "id": "0c019193",
   "metadata": {
    "ExecuteTime": {
     "end_time": "2021-12-07T06:53:31.538449Z",
     "start_time": "2021-12-07T06:53:31.534134Z"
    }
   },
   "outputs": [
    {
     "data": {
      "text/plain": [
       "{3, 4.5}"
      ]
     },
     "execution_count": 93,
     "metadata": {},
     "output_type": "execute_result"
    }
   ],
   "source": [
    "subSet & mySet"
   ]
  },
  {
   "cell_type": "code",
   "execution_count": 94,
   "id": "442b57b1",
   "metadata": {
    "ExecuteTime": {
     "end_time": "2021-12-07T06:53:49.293967Z",
     "start_time": "2021-12-07T06:53:49.290437Z"
    }
   },
   "outputs": [
    {
     "data": {
      "text/plain": [
       "{5, 'dog'}"
      ]
     },
     "execution_count": 94,
     "metadata": {},
     "output_type": "execute_result"
    }
   ],
   "source": [
    "subSet - mySet"
   ]
  },
  {
   "cell_type": "code",
   "execution_count": 95,
   "id": "2a135be4",
   "metadata": {
    "ExecuteTime": {
     "end_time": "2021-12-07T06:54:16.806332Z",
     "start_time": "2021-12-07T06:54:16.802461Z"
    }
   },
   "outputs": [
    {
     "data": {
      "text/plain": [
       "False"
      ]
     },
     "execution_count": 95,
     "metadata": {},
     "output_type": "execute_result"
    }
   ],
   "source": [
    "subSet <= mySet"
   ]
  },
  {
   "cell_type": "markdown",
   "id": "4cafce96",
   "metadata": {},
   "source": [
    "**集提供的方法**"
   ]
  },
  {
   "cell_type": "markdown",
   "id": "2f16ddb3",
   "metadata": {
    "ExecuteTime": {
     "end_time": "2021-12-07T06:55:13.992705Z",
     "start_time": "2021-12-07T06:55:13.987740Z"
    }
   },
   "source": [
    "\n",
    "|方法名|用法|解释|\n",
    "| :------: | :------: | :------: |\n",
    "|union       | aset.union(otherset)       | 返回一个包含 aset 和 otherset 所有元素的集\n",
    "|intersection| aset.intersection(otherset)| 返回一个仅包含两个集共有元素的集\n",
    "|difference  | aset.difference(otherset)  | 返回一个集，其中仅包含只出现在 aset 中的元素 \n",
    "|issubset    | aset.issubset(otherset)    | 询问 aset 是否为 otherset 的子集\n",
    "|add         | aset.add(item)             | 向 aset 添加一个元素\n",
    "|remove      | aset.remove(item)          | 将 item 从 aset 中移除\n",
    "|pop         | aset.pop()                 | **随机**移除 aset 中的一个元素\n",
    "|clear       | aset.clear()               | 清除 aset 中的所有元素"
   ]
  },
  {
   "cell_type": "code",
   "execution_count": 97,
   "id": "db8afb52",
   "metadata": {
    "ExecuteTime": {
     "end_time": "2021-12-07T06:56:42.740155Z",
     "start_time": "2021-12-07T06:56:42.733262Z"
    }
   },
   "outputs": [
    {
     "data": {
      "text/plain": [
       "{3, 4.5, 5, 6, False, 'cat', 'dog'}"
      ]
     },
     "execution_count": 97,
     "metadata": {},
     "output_type": "execute_result"
    }
   ],
   "source": [
    "mySet.union(subSet)"
   ]
  },
  {
   "cell_type": "code",
   "execution_count": 98,
   "id": "026ab0b3",
   "metadata": {
    "ExecuteTime": {
     "end_time": "2021-12-07T06:57:16.078643Z",
     "start_time": "2021-12-07T06:57:16.074435Z"
    }
   },
   "outputs": [
    {
     "data": {
      "text/plain": [
       "{3, 4.5}"
      ]
     },
     "execution_count": 98,
     "metadata": {},
     "output_type": "execute_result"
    }
   ],
   "source": [
    "mySet.intersection(subSet)"
   ]
  },
  {
   "cell_type": "code",
   "execution_count": 99,
   "id": "3d8acfa6",
   "metadata": {
    "ExecuteTime": {
     "end_time": "2021-12-07T07:03:56.342802Z",
     "start_time": "2021-12-07T07:03:56.336688Z"
    }
   },
   "outputs": [
    {
     "data": {
      "text/plain": [
       "{5, 'dog'}"
      ]
     },
     "execution_count": 99,
     "metadata": {},
     "output_type": "execute_result"
    }
   ],
   "source": [
    "subSet.difference(mySet)"
   ]
  },
  {
   "cell_type": "code",
   "execution_count": 100,
   "id": "df6727fe",
   "metadata": {
    "ExecuteTime": {
     "end_time": "2021-12-07T07:05:01.898693Z",
     "start_time": "2021-12-07T07:05:01.895038Z"
    }
   },
   "outputs": [
    {
     "data": {
      "text/plain": [
       "False"
      ]
     },
     "execution_count": 100,
     "metadata": {},
     "output_type": "execute_result"
    }
   ],
   "source": [
    "subSet.issubset(mySet)"
   ]
  },
  {
   "cell_type": "code",
   "execution_count": 106,
   "id": "3183236f",
   "metadata": {
    "ExecuteTime": {
     "end_time": "2021-12-07T07:06:38.286444Z",
     "start_time": "2021-12-07T07:06:38.282415Z"
    }
   },
   "outputs": [
    {
     "data": {
      "text/plain": [
       "{3, 4.5, 5, 6, 'dog'}"
      ]
     },
     "execution_count": 106,
     "metadata": {},
     "output_type": "execute_result"
    }
   ],
   "source": [
    "subSet.add(6)\n",
    "subSet"
   ]
  },
  {
   "cell_type": "code",
   "execution_count": 107,
   "id": "48c5f758",
   "metadata": {
    "ExecuteTime": {
     "end_time": "2021-12-07T07:06:39.146631Z",
     "start_time": "2021-12-07T07:06:39.142515Z"
    }
   },
   "outputs": [
    {
     "data": {
      "text/plain": [
       "{3, 4.5, 5, 'dog'}"
      ]
     },
     "execution_count": 107,
     "metadata": {},
     "output_type": "execute_result"
    }
   ],
   "source": [
    "subSet.remove(6)\n",
    "subSet"
   ]
  },
  {
   "cell_type": "code",
   "execution_count": 108,
   "id": "89d28166",
   "metadata": {
    "ExecuteTime": {
     "end_time": "2021-12-07T07:07:57.895545Z",
     "start_time": "2021-12-07T07:07:57.891708Z"
    }
   },
   "outputs": [
    {
     "data": {
      "text/plain": [
       "3"
      ]
     },
     "execution_count": 108,
     "metadata": {},
     "output_type": "execute_result"
    }
   ],
   "source": [
    "subSet.pop()"
   ]
  },
  {
   "cell_type": "code",
   "execution_count": 111,
   "id": "1bcbd9f8",
   "metadata": {
    "ExecuteTime": {
     "end_time": "2021-12-07T07:08:51.059534Z",
     "start_time": "2021-12-07T07:08:51.055844Z"
    }
   },
   "outputs": [
    {
     "data": {
      "text/plain": [
       "set()"
      ]
     },
     "execution_count": 111,
     "metadata": {},
     "output_type": "execute_result"
    }
   ],
   "source": [
    "subSet.clear()\n",
    "subSet"
   ]
  },
  {
   "cell_type": "markdown",
   "id": "fcc5b368",
   "metadata": {
    "ExecuteTime": {
     "end_time": "2021-12-07T07:09:09.302644Z",
     "start_time": "2021-12-07T07:09:09.300481Z"
    }
   },
   "source": [
    "#### 字典"
   ]
  },
  {
   "cell_type": "markdown",
   "id": "a53c0ca6",
   "metadata": {},
   "source": [
    "字典是无序结构，由相关的元素对构成，其中每对元素都由一个键和一个值组成。这种键–值对通常写成键:值的形式。字典由花括号包含的一系列以逗号分隔的键–值对表达，如下所示。"
   ]
  },
  {
   "cell_type": "code",
   "execution_count": 113,
   "id": "14f142a5",
   "metadata": {
    "ExecuteTime": {
     "end_time": "2021-12-07T07:10:27.426624Z",
     "start_time": "2021-12-07T07:10:27.421948Z"
    }
   },
   "outputs": [],
   "source": [
    "capitals = {'Iowa':'DesMoines','Wisconsin':'Madison'}"
   ]
  },
  {
   "cell_type": "markdown",
   "id": "d2c0b058",
   "metadata": {},
   "source": [
    "访问其中的元素："
   ]
  },
  {
   "cell_type": "code",
   "execution_count": 114,
   "id": "dc457153",
   "metadata": {
    "ExecuteTime": {
     "end_time": "2021-12-07T07:11:21.310262Z",
     "start_time": "2021-12-07T07:11:21.305196Z"
    }
   },
   "outputs": [
    {
     "data": {
      "text/plain": [
       "'DesMoines'"
      ]
     },
     "execution_count": 114,
     "metadata": {},
     "output_type": "execute_result"
    }
   ],
   "source": [
    "capitals['Iowa']"
   ]
  },
  {
   "cell_type": "markdown",
   "id": "e93fd34d",
   "metadata": {},
   "source": [
    "往其中添加新的键值对："
   ]
  },
  {
   "cell_type": "code",
   "execution_count": 115,
   "id": "b7b9d59e",
   "metadata": {
    "ExecuteTime": {
     "end_time": "2021-12-07T07:12:18.428809Z",
     "start_time": "2021-12-07T07:12:18.426207Z"
    }
   },
   "outputs": [],
   "source": [
    "capitals['Utah']='SaltLakeCity'"
   ]
  },
  {
   "cell_type": "code",
   "execution_count": 117,
   "id": "b5d94752",
   "metadata": {
    "ExecuteTime": {
     "end_time": "2021-12-07T07:18:01.821741Z",
     "start_time": "2021-12-07T07:18:01.819003Z"
    }
   },
   "outputs": [],
   "source": [
    "capitals['California'] = 'Sacramento'"
   ]
  },
  {
   "cell_type": "markdown",
   "id": "fb7402be",
   "metadata": {
    "ExecuteTime": {
     "end_time": "2021-12-07T07:19:28.939876Z",
     "start_time": "2021-12-07T07:19:28.929082Z"
    }
   },
   "source": [
    "键的位置是由散列来决定的"
   ]
  },
  {
   "cell_type": "markdown",
   "id": "e1457e57",
   "metadata": {},
   "source": [
    "**字典支持的运算：**"
   ]
  },
  {
   "cell_type": "markdown",
   "id": "e85ec19f",
   "metadata": {},
   "source": [
    "|运算名|运算符|解释|\n",
    "|:------:|:------:|:------:|\n",
    "|[ ] | myDict[k]     | 返回与 k 相关联的值，如果没有则报错|\n",
    "|in  | key in adict  | 如果 key 在字典中，返回 True，否则返回 False|\n",
    "|del | del adict[key]| 从字典中删除 key 的键–值对|"
   ]
  },
  {
   "cell_type": "code",
   "execution_count": 122,
   "id": "b05c5735",
   "metadata": {
    "ExecuteTime": {
     "end_time": "2021-12-07T07:23:47.667137Z",
     "start_time": "2021-12-07T07:23:47.650425Z"
    }
   },
   "outputs": [
    {
     "ename": "KeyError",
     "evalue": "'Gansu'",
     "output_type": "error",
     "traceback": [
      "\u001b[0;31m---------------------------------------------------------------------------\u001b[0m",
      "\u001b[0;31mKeyError\u001b[0m                                  Traceback (most recent call last)",
      "\u001b[0;32m/var/folders/mt/xrw8y41160l8l58wm8mwkmh80000gn/T/ipykernel_47284/2621155847.py\u001b[0m in \u001b[0;36m<module>\u001b[0;34m\u001b[0m\n\u001b[0;32m----> 1\u001b[0;31m \u001b[0mcapitals\u001b[0m\u001b[0;34m[\u001b[0m\u001b[0;34m'Gansu'\u001b[0m\u001b[0;34m]\u001b[0m\u001b[0;34m\u001b[0m\u001b[0;34m\u001b[0m\u001b[0m\n\u001b[0m",
      "\u001b[0;31mKeyError\u001b[0m: 'Gansu'"
     ]
    }
   ],
   "source": [
    "capitals['Gansu']"
   ]
  },
  {
   "cell_type": "code",
   "execution_count": 123,
   "id": "5243ec83",
   "metadata": {
    "ExecuteTime": {
     "end_time": "2021-12-07T07:24:17.518371Z",
     "start_time": "2021-12-07T07:24:17.514150Z"
    }
   },
   "outputs": [
    {
     "data": {
      "text/plain": [
       "True"
      ]
     },
     "execution_count": 123,
     "metadata": {},
     "output_type": "execute_result"
    }
   ],
   "source": [
    "'California' in capitals"
   ]
  },
  {
   "cell_type": "code",
   "execution_count": 124,
   "id": "9483a7bc",
   "metadata": {
    "ExecuteTime": {
     "end_time": "2021-12-07T07:24:42.526963Z",
     "start_time": "2021-12-07T07:24:42.524396Z"
    }
   },
   "outputs": [],
   "source": [
    "del capitals['California']"
   ]
  },
  {
   "cell_type": "code",
   "execution_count": 125,
   "id": "7559261e",
   "metadata": {
    "ExecuteTime": {
     "end_time": "2021-12-07T07:24:49.504721Z",
     "start_time": "2021-12-07T07:24:49.501103Z"
    }
   },
   "outputs": [
    {
     "data": {
      "text/plain": [
       "{'Iowa': 'DesMoines', 'Wisconsin': 'Madison', 'Utah': 'SaltLakeCity'}"
      ]
     },
     "execution_count": 125,
     "metadata": {},
     "output_type": "execute_result"
    }
   ],
   "source": [
    "capitals"
   ]
  },
  {
   "cell_type": "markdown",
   "id": "b052e17d",
   "metadata": {
    "ExecuteTime": {
     "end_time": "2021-12-07T07:25:25.187233Z",
     "start_time": "2021-12-07T07:25:25.182003Z"
    }
   },
   "source": [
    "**字典支持的方法：**"
   ]
  },
  {
   "cell_type": "markdown",
   "id": "2e4eb2ce",
   "metadata": {},
   "source": [
    "|方法名|用法|解释|\n",
    "| :------: | :------: | :------: |\n",
    "|keys   |adict.keys()      |返回包含字典中所有键的 dict_keys 对象|\n",
    "|values |adict.values()    |返回包含字典中所有值的 dict_values 对象|\n",
    "|items  |adict.items()     |返回包含字典中所有键–值对的 dict_items 对象|\n",
    "|get    |adict.get(k)      |返回 k 对应的值，如果没有则返回 None|\n",
    "|get    |adict.get(k, alt) |返回 k 对应的值，如果没有则返回 alt|"
   ]
  },
  {
   "cell_type": "code",
   "execution_count": 127,
   "id": "6f28754c",
   "metadata": {
    "ExecuteTime": {
     "end_time": "2021-12-07T07:26:45.802487Z",
     "start_time": "2021-12-07T07:26:45.799096Z"
    }
   },
   "outputs": [
    {
     "data": {
      "text/plain": [
       "dict_keys(['Iowa', 'Wisconsin', 'Utah'])"
      ]
     },
     "execution_count": 127,
     "metadata": {},
     "output_type": "execute_result"
    }
   ],
   "source": [
    "capitals.keys()"
   ]
  },
  {
   "cell_type": "code",
   "execution_count": 128,
   "id": "800bc4e1",
   "metadata": {
    "ExecuteTime": {
     "end_time": "2021-12-07T07:26:58.490453Z",
     "start_time": "2021-12-07T07:26:58.485043Z"
    }
   },
   "outputs": [
    {
     "data": {
      "text/plain": [
       "dict_values(['DesMoines', 'Madison', 'SaltLakeCity'])"
      ]
     },
     "execution_count": 128,
     "metadata": {},
     "output_type": "execute_result"
    }
   ],
   "source": [
    "capitals.values()"
   ]
  },
  {
   "cell_type": "code",
   "execution_count": 129,
   "id": "02ea5824",
   "metadata": {
    "ExecuteTime": {
     "end_time": "2021-12-07T07:27:08.713734Z",
     "start_time": "2021-12-07T07:27:08.709142Z"
    }
   },
   "outputs": [
    {
     "data": {
      "text/plain": [
       "dict_items([('Iowa', 'DesMoines'), ('Wisconsin', 'Madison'), ('Utah', 'SaltLakeCity')])"
      ]
     },
     "execution_count": 129,
     "metadata": {},
     "output_type": "execute_result"
    }
   ],
   "source": [
    "capitals.items()"
   ]
  },
  {
   "cell_type": "code",
   "execution_count": 130,
   "id": "dad07468",
   "metadata": {
    "ExecuteTime": {
     "end_time": "2021-12-07T07:27:32.984938Z",
     "start_time": "2021-12-07T07:27:32.981341Z"
    }
   },
   "outputs": [
    {
     "data": {
      "text/plain": [
       "'DesMoines'"
      ]
     },
     "execution_count": 130,
     "metadata": {},
     "output_type": "execute_result"
    }
   ],
   "source": [
    "capitals.get('Iowa')"
   ]
  },
  {
   "cell_type": "code",
   "execution_count": 131,
   "id": "f2e00c0a",
   "metadata": {
    "ExecuteTime": {
     "end_time": "2021-12-07T07:28:17.438607Z",
     "start_time": "2021-12-07T07:28:17.434828Z"
    }
   },
   "outputs": [
    {
     "data": {
      "text/plain": [
       "'NO ENTRY'"
      ]
     },
     "execution_count": 131,
     "metadata": {},
     "output_type": "execute_result"
    }
   ],
   "source": [
    "capitals.get('Gansu','NO ENTRY')"
   ]
  },
  {
   "cell_type": "markdown",
   "id": "3c2844dc",
   "metadata": {
    "ExecuteTime": {
     "end_time": "2021-12-07T07:31:59.268161Z",
     "start_time": "2021-12-07T07:31:59.263591Z"
    }
   },
   "source": [
    "## 输入与输出"
   ]
  },
  {
   "cell_type": "code",
   "execution_count": 2,
   "id": "0f750caa",
   "metadata": {
    "ExecuteTime": {
     "end_time": "2021-12-07T07:32:40.817775Z",
     "start_time": "2021-12-07T07:32:36.550620Z"
    }
   },
   "outputs": [
    {
     "name": "stdout",
     "output_type": "stream",
     "text": [
      "Please enter your namewang\n"
     ]
    }
   ],
   "source": [
    "aName = input('Please enter your name')"
   ]
  },
  {
   "cell_type": "code",
   "execution_count": 3,
   "id": "ccd80774",
   "metadata": {
    "ExecuteTime": {
     "end_time": "2021-12-07T07:32:51.605733Z",
     "start_time": "2021-12-07T07:32:51.593389Z"
    }
   },
   "outputs": [
    {
     "data": {
      "text/plain": [
       "'wang'"
      ]
     },
     "execution_count": 3,
     "metadata": {},
     "output_type": "execute_result"
    }
   ],
   "source": [
    "aName"
   ]
  },
  {
   "cell_type": "markdown",
   "id": "55b51327",
   "metadata": {
    "ExecuteTime": {
     "end_time": "2021-12-07T07:40:20.743358Z",
     "start_time": "2021-12-07T07:40:20.741140Z"
    }
   },
   "source": [
    "##### 格式化字符串"
   ]
  },
  {
   "cell_type": "markdown",
   "id": "0b102a5d",
   "metadata": {},
   "source": [
    "print 函数为输出 Python 程序的值提供了一种非常简便的方法。它接受零个或者多个参数，\n",
    "并且将单个空格作为默认分隔符来显示结果。通过设置 sep 这一实际参数可以改变分隔符。此\n",
    "外，每一次打印都默认以换行符结尾。这一行为可以通过设置实际参数 end 来更改。\n",
    "\n",
    "下面是一些例子:"
   ]
  },
  {
   "cell_type": "code",
   "execution_count": 9,
   "id": "78ff0d29",
   "metadata": {
    "ExecuteTime": {
     "end_time": "2021-12-07T07:47:31.803764Z",
     "start_time": "2021-12-07T07:47:31.800494Z"
    }
   },
   "outputs": [
    {
     "name": "stdout",
     "output_type": "stream",
     "text": [
      "Hello Wolrd\n",
      "Hello***World\n",
      "Hello World***"
     ]
    }
   ],
   "source": [
    "print('Hello','Wolrd')\n",
    "print('Hello','World',sep = '***')\n",
    "print('Hello','World',end = '***')"
   ]
  },
  {
   "cell_type": "code",
   "execution_count": 14,
   "id": "fd50a6df",
   "metadata": {
    "ExecuteTime": {
     "end_time": "2021-12-07T07:50:45.364304Z",
     "start_time": "2021-12-07T07:50:45.361289Z"
    }
   },
   "outputs": [
    {
     "name": "stdout",
     "output_type": "stream",
     "text": [
      "David is 22 years old\n"
     ]
    }
   ],
   "source": [
    "print(\"%s is %d years old\" % ('David',22))"
   ]
  },
  {
   "cell_type": "code",
   "execution_count": 15,
   "id": "62bf13e6",
   "metadata": {
    "ExecuteTime": {
     "end_time": "2021-12-07T07:50:59.443112Z",
     "start_time": "2021-12-07T07:50:59.439853Z"
    }
   },
   "outputs": [
    {
     "name": "stdout",
     "output_type": "stream",
     "text": [
      "David is 22 years old\n"
     ]
    }
   ],
   "source": [
    "print(\"%s is %i years old\" % ('David',22))"
   ]
  },
  {
   "cell_type": "markdown",
   "id": "490be34e",
   "metadata": {},
   "source": [
    "**格式化字符串可用的类型声明：**\n",
    "\n",
    "|字符|输出格式|\n",
    "| :------: | :------: |\n",
    "|d、i |整数|\n",
    "|u   | 无符号整数|\n",
    "|f   | m.dddd 格式的浮点数|\n",
    "|e   | m.dddde+/—xx 格式的浮点数|\n",
    "|E   | m.ddddE+/—xx 格式的浮点数|\n",
    "|g   | 对指数小于-4 或者大于 5 的使用%e，否则使用%f|\n",
    "|c   | 单个字符|\n",
    "|s   | 字符串，或者任意可以通过 str 函数转换成字符串的 Python 数据对象|\n",
    "|%   | 插入一个常量%符号|"
   ]
  },
  {
   "cell_type": "markdown",
   "id": "a6b93302",
   "metadata": {},
   "source": [
    "可以在%和格式化字符之间加入一个格式化修改符。格式化修改符可以根据给定的宽度对值\n",
    "进行左对齐或者右对齐，也可以通过小数点之后的一些数字来指定宽度。"
   ]
  },
  {
   "cell_type": "markdown",
   "id": "c4ef553a",
   "metadata": {
    "ExecuteTime": {
     "end_time": "2021-12-07T07:54:17.396179Z",
     "start_time": "2021-12-07T07:54:17.393176Z"
    }
   },
   "source": [
    "**格式化修改符：**\n",
    "\n",
    "|修改符|例子|解释|\n",
    "| :------: | :------: | :------: |\n",
    "|数字   |%20d   |将值放在 20 个字符宽的区域中|\n",
    "|'-'   | %-20d| 将值放在 20 个字符宽的区域中，并且左对齐|\n",
    "|'+'   | %+20d| 将值放在 20 个字符宽的区域中，并且右对齐|\n",
    "|0     | %020d| 将值放在 20 个字符宽的区域中，并在前面补上 0|\n",
    "|'.'   | %20.2f   |将值放在 20 个字符宽的区域中，并且保留小数点后 2 位|\n",
    "|(name)| %(name)d |从字典中获取 name 键对应的值|"
   ]
  },
  {
   "cell_type": "code",
   "execution_count": 17,
   "id": "2c70ca51",
   "metadata": {
    "ExecuteTime": {
     "end_time": "2021-12-07T07:55:56.490620Z",
     "start_time": "2021-12-07T07:55:56.488080Z"
    }
   },
   "outputs": [],
   "source": [
    "price,item = 24,'banana' "
   ]
  },
  {
   "cell_type": "code",
   "execution_count": 19,
   "id": "054e92ce",
   "metadata": {
    "ExecuteTime": {
     "end_time": "2021-12-07T07:57:10.194971Z",
     "start_time": "2021-12-07T07:57:10.192103Z"
    }
   },
   "outputs": [
    {
     "name": "stdout",
     "output_type": "stream",
     "text": [
      "The banana costs 24 yuan\n"
     ]
    }
   ],
   "source": [
    "print('The %s costs %d yuan' % (item,price))"
   ]
  },
  {
   "cell_type": "code",
   "execution_count": 20,
   "id": "5e1f86ed",
   "metadata": {
    "ExecuteTime": {
     "end_time": "2021-12-07T07:57:33.617740Z",
     "start_time": "2021-12-07T07:57:33.614940Z"
    }
   },
   "outputs": [
    {
     "name": "stdout",
     "output_type": "stream",
     "text": [
      "The               banana costs 24 yuan\n"
     ]
    }
   ],
   "source": [
    "print('The %20s costs %d yuan' % (item,price))\n",
    "# 可以看出默认是右对齐"
   ]
  },
  {
   "cell_type": "code",
   "execution_count": 21,
   "id": "138f2913",
   "metadata": {
    "ExecuteTime": {
     "end_time": "2021-12-07T07:57:50.506176Z",
     "start_time": "2021-12-07T07:57:50.503298Z"
    }
   },
   "outputs": [
    {
     "name": "stdout",
     "output_type": "stream",
     "text": [
      "The banana               costs 24 yuan\n"
     ]
    }
   ],
   "source": [
    "print('The %-20s costs %d yuan' % (item,price))"
   ]
  },
  {
   "cell_type": "code",
   "execution_count": 22,
   "id": "0fe3e4e6",
   "metadata": {
    "ExecuteTime": {
     "end_time": "2021-12-07T07:57:58.917542Z",
     "start_time": "2021-12-07T07:57:58.914638Z"
    }
   },
   "outputs": [
    {
     "name": "stdout",
     "output_type": "stream",
     "text": [
      "The               banana costs 24 yuan\n"
     ]
    }
   ],
   "source": [
    "print('The %+20s costs %d yuan' % (item,price))"
   ]
  },
  {
   "cell_type": "code",
   "execution_count": 23,
   "id": "08d24106",
   "metadata": {
    "ExecuteTime": {
     "end_time": "2021-12-07T07:58:46.427412Z",
     "start_time": "2021-12-07T07:58:46.424545Z"
    }
   },
   "outputs": [
    {
     "name": "stdout",
     "output_type": "stream",
     "text": [
      "The banana costs 00000000000000000024 yuan\n"
     ]
    }
   ],
   "source": [
    "print('The %s costs %020d yuan' % (item,price))"
   ]
  },
  {
   "cell_type": "code",
   "execution_count": 24,
   "id": "0a00d9e1",
   "metadata": {
    "ExecuteTime": {
     "end_time": "2021-12-07T07:59:22.265870Z",
     "start_time": "2021-12-07T07:59:22.262379Z"
    }
   },
   "outputs": [
    {
     "name": "stdout",
     "output_type": "stream",
     "text": [
      "The banana costs                24.00 yuan\n"
     ]
    }
   ],
   "source": [
    "print('The %s costs %20.2f yuan' % (item,price))"
   ]
  },
  {
   "cell_type": "code",
   "execution_count": 26,
   "id": "a7e6000d",
   "metadata": {
    "ExecuteTime": {
     "end_time": "2021-12-07T08:02:26.806602Z",
     "start_time": "2021-12-07T08:02:26.803506Z"
    }
   },
   "outputs": [
    {
     "name": "stdout",
     "output_type": "stream",
     "text": [
      "The banana costs 20.00 yuan\n"
     ]
    }
   ],
   "source": [
    "itemDict = {'item':'banana','price':20}\n",
    "print('The %(item)s costs %(price)4.2f yuan' % (itemDict))"
   ]
  },
  {
   "cell_type": "markdown",
   "id": "39220633",
   "metadata": {
    "ExecuteTime": {
     "end_time": "2021-12-07T08:02:51.561546Z",
     "start_time": "2021-12-07T08:02:51.559356Z"
    }
   },
   "source": [
    "## 控制结构"
   ]
  },
  {
   "cell_type": "markdown",
   "id": "9836e27e",
   "metadata": {
    "ExecuteTime": {
     "end_time": "2021-12-07T08:06:32.188300Z",
     "start_time": "2021-12-07T08:06:32.186066Z"
    }
   },
   "source": [
    "### 循环体"
   ]
  },
  {
   "cell_type": "markdown",
   "id": "b5129bd5",
   "metadata": {
    "ExecuteTime": {
     "end_time": "2021-12-07T08:06:51.064214Z",
     "start_time": "2021-12-07T08:06:51.062037Z"
    }
   },
   "source": [
    "#### while循环"
   ]
  },
  {
   "cell_type": "code",
   "execution_count": 34,
   "id": "aa91e689",
   "metadata": {
    "ExecuteTime": {
     "end_time": "2021-12-07T08:09:18.829132Z",
     "start_time": "2021-12-07T08:09:18.824987Z"
    }
   },
   "outputs": [
    {
     "name": "stdout",
     "output_type": "stream",
     "text": [
      "Hello World\n",
      "Hello World\n",
      "Hello World\n",
      "Hello World\n",
      "Hello World\n",
      "Hello World\n",
      "Hello World\n",
      "Hello World\n",
      "Hello World\n",
      "Hello World\n"
     ]
    }
   ],
   "source": [
    "i = 0\n",
    "while i < 10:\n",
    "    print('Hello World')\n",
    "    i = i+1"
   ]
  },
  {
   "cell_type": "markdown",
   "id": "a12ecbad",
   "metadata": {
    "ExecuteTime": {
     "end_time": "2021-12-07T08:07:23.623804Z",
     "start_time": "2021-12-07T08:07:23.621627Z"
    }
   },
   "source": [
    "#### for in range()"
   ]
  },
  {
   "cell_type": "code",
   "execution_count": 35,
   "id": "75517666",
   "metadata": {
    "ExecuteTime": {
     "end_time": "2021-12-07T08:09:50.751244Z",
     "start_time": "2021-12-07T08:09:50.745405Z"
    }
   },
   "outputs": [
    {
     "name": "stdout",
     "output_type": "stream",
     "text": [
      "Hello World\n",
      "Hello World\n",
      "Hello World\n",
      "Hello World\n",
      "Hello World\n",
      "Hello World\n",
      "Hello World\n",
      "Hello World\n",
      "Hello World\n",
      "Hello World\n"
     ]
    }
   ],
   "source": [
    "for i in range(0,10):\n",
    "    print('Hello World')"
   ]
  },
  {
   "cell_type": "markdown",
   "id": "0feb31a9",
   "metadata": {},
   "source": [
    "#### for item in Set"
   ]
  },
  {
   "cell_type": "code",
   "execution_count": 39,
   "id": "57cdd4a4",
   "metadata": {
    "ExecuteTime": {
     "end_time": "2021-12-07T08:13:01.594187Z",
     "start_time": "2021-12-07T08:13:01.590158Z"
    }
   },
   "outputs": [
    {
     "name": "stdout",
     "output_type": "stream",
     "text": [
      "Iowa\n",
      "Wisconsin\n",
      "Iowa:DesMoines\n",
      "Wisconsin:Madison\n"
     ]
    }
   ],
   "source": [
    "capitals = {'Iowa':'DesMoines','Wisconsin':'Madison'}\n",
    "for item in capitals:\n",
    "    print(item)\n",
    "    \n",
    "for item in capitals.keys():\n",
    "    print(item + ':'+ capitals.get(item))"
   ]
  },
  {
   "cell_type": "markdown",
   "id": "c5a7abb3",
   "metadata": {
    "ExecuteTime": {
     "end_time": "2021-12-07T08:03:29.317143Z",
     "start_time": "2021-12-07T08:03:29.315006Z"
    }
   },
   "source": [
    "#### 列表解析式"
   ]
  },
  {
   "cell_type": "code",
   "execution_count": 29,
   "id": "f12dc4b6",
   "metadata": {
    "ExecuteTime": {
     "end_time": "2021-12-07T08:06:07.475153Z",
     "start_time": "2021-12-07T08:06:07.470465Z"
    }
   },
   "outputs": [
    {
     "data": {
      "text/plain": [
       "[1, 4, 9, 16, 25, 36, 49, 64, 81, 100]"
      ]
     },
     "execution_count": 29,
     "metadata": {},
     "output_type": "execute_result"
    }
   ],
   "source": [
    "sqlList = [i**2 for i in range(1,11)]\n",
    "sqlList"
   ]
  },
  {
   "cell_type": "code",
   "execution_count": 40,
   "id": "1236c4e7",
   "metadata": {
    "ExecuteTime": {
     "end_time": "2021-12-07T08:13:59.810500Z",
     "start_time": "2021-12-07T08:13:59.804933Z"
    }
   },
   "outputs": [
    {
     "data": {
      "text/plain": [
       "[1, 9, 25, 49, 81]"
      ]
     },
     "execution_count": 40,
     "metadata": {},
     "output_type": "execute_result"
    }
   ],
   "source": [
    "sqlList = [i**2 for i in range(1,11) if i%2 != 0]\n",
    "sqlList"
   ]
  },
  {
   "cell_type": "markdown",
   "id": "fe251a0d",
   "metadata": {
    "ExecuteTime": {
     "end_time": "2021-12-07T08:14:17.729725Z",
     "start_time": "2021-12-07T08:14:17.727417Z"
    }
   },
   "source": [
    "## 异常处理"
   ]
  },
  {
   "cell_type": "markdown",
   "id": "5b49f931",
   "metadata": {},
   "source": [
    "异常主要包括两种：\n",
    "- 语法错误\n",
    "- 逻辑错误"
   ]
  },
  {
   "cell_type": "markdown",
   "id": "604e098e",
   "metadata": {},
   "source": [
    "当异常发生时，我们称程序“抛出”异常。可以用 try 语句来“处理”被抛出的异常。例如，以下代码段要求用户输入一个整数，然后从数学库中调用平方根函数。如果用户输入了一个\n",
    "大于或等于 0 的值，那么其平方根就会被打印出来。但是，如果用户输入了一个负数，平方根函\n",
    "数就会报告 ValueError 异常。"
   ]
  },
  {
   "cell_type": "markdown",
   "id": "da4d6812",
   "metadata": {
    "ExecuteTime": {
     "end_time": "2021-12-07T08:30:42.503792Z",
     "start_time": "2021-12-07T08:30:42.501616Z"
    }
   },
   "source": [
    "### try处理异常"
   ]
  },
  {
   "cell_type": "code",
   "execution_count": 45,
   "id": "bb93fb1c",
   "metadata": {
    "ExecuteTime": {
     "end_time": "2021-12-07T08:20:41.903741Z",
     "start_time": "2021-12-07T08:20:39.253857Z"
    }
   },
   "outputs": [
    {
     "name": "stdout",
     "output_type": "stream",
     "text": [
      "Please input an iteger:-23\n"
     ]
    },
    {
     "ename": "ValueError",
     "evalue": "math domain error",
     "output_type": "error",
     "traceback": [
      "\u001b[0;31m---------------------------------------------------------------------------\u001b[0m",
      "\u001b[0;31mValueError\u001b[0m                                Traceback (most recent call last)",
      "\u001b[0;32m/var/folders/mt/xrw8y41160l8l58wm8mwkmh80000gn/T/ipykernel_1746/3546124878.py\u001b[0m in \u001b[0;36m<module>\u001b[0;34m\u001b[0m\n\u001b[1;32m      1\u001b[0m \u001b[0;32mimport\u001b[0m \u001b[0mmath\u001b[0m\u001b[0;34m\u001b[0m\u001b[0;34m\u001b[0m\u001b[0m\n\u001b[1;32m      2\u001b[0m \u001b[0msqrtNum\u001b[0m \u001b[0;34m=\u001b[0m \u001b[0mint\u001b[0m\u001b[0;34m(\u001b[0m\u001b[0minput\u001b[0m\u001b[0;34m(\u001b[0m\u001b[0;34m\"Please input an iteger:\"\u001b[0m\u001b[0;34m)\u001b[0m\u001b[0;34m)\u001b[0m\u001b[0;34m\u001b[0m\u001b[0;34m\u001b[0m\u001b[0m\n\u001b[0;32m----> 3\u001b[0;31m \u001b[0mvalue\u001b[0m \u001b[0;34m=\u001b[0m \u001b[0mmath\u001b[0m\u001b[0;34m.\u001b[0m\u001b[0msqrt\u001b[0m\u001b[0;34m(\u001b[0m\u001b[0msqrtNum\u001b[0m\u001b[0;34m)\u001b[0m\u001b[0;34m\u001b[0m\u001b[0;34m\u001b[0m\u001b[0m\n\u001b[0m",
      "\u001b[0;31mValueError\u001b[0m: math domain error"
     ]
    }
   ],
   "source": [
    "import math\n",
    "sqrtNum = int(input(\"Please input an iteger:\"))\n",
    "value = math.sqrt(sqrtNum)"
   ]
  },
  {
   "cell_type": "markdown",
   "id": "584acf74",
   "metadata": {},
   "source": [
    "可以在 try 语句块中调用 print 函数来处理这个异常。对应的 except 语句块“捕捉”到\n",
    "这个异常，并且为用户打印一条提示消息"
   ]
  },
  {
   "cell_type": "code",
   "execution_count": 46,
   "id": "caa18ae4",
   "metadata": {
    "ExecuteTime": {
     "end_time": "2021-12-07T08:25:21.660836Z",
     "start_time": "2021-12-07T08:25:17.684323Z"
    }
   },
   "outputs": [
    {
     "name": "stdout",
     "output_type": "stream",
     "text": [
      "Please input an iteger:-23\n",
      "Bad Value for square root\n",
      "Using absolute value instead\n",
      "4.795831523312719\n"
     ]
    }
   ],
   "source": [
    "sqrtNum = int(input(\"Please input an iteger:\"))\n",
    "try:\n",
    "    value = math.sqrt(sqrtNum)\n",
    "except:\n",
    "    if sqrtNum < 0:\n",
    "         print('Bad Value for square root')\n",
    "         print(\"Using absolute value instead\")\n",
    "         value = math.sqrt(abs(sqrtNum))\n",
    "         print(value)"
   ]
  },
  {
   "cell_type": "markdown",
   "id": "e547b097",
   "metadata": {
    "ExecuteTime": {
     "end_time": "2021-12-07T08:31:46.669199Z",
     "start_time": "2021-12-07T08:31:46.666958Z"
    }
   },
   "source": [
    "### raise触发运行时异常"
   ]
  },
  {
   "cell_type": "markdown",
   "id": "84a25268",
   "metadata": {},
   "source": [
    "程序员也可以使用 raise 语句来触发运行时异常"
   ]
  },
  {
   "cell_type": "code",
   "execution_count": 47,
   "id": "94e4c923",
   "metadata": {
    "ExecuteTime": {
     "end_time": "2021-12-07T08:27:33.914828Z",
     "start_time": "2021-12-07T08:27:31.247146Z"
    }
   },
   "outputs": [
    {
     "name": "stdout",
     "output_type": "stream",
     "text": [
      "Please input an iteger:-23\n"
     ]
    },
    {
     "ename": "RuntimeError",
     "evalue": "you can't give a negative number",
     "output_type": "error",
     "traceback": [
      "\u001b[0;31m---------------------------------------------------------------------------\u001b[0m",
      "\u001b[0;31mRuntimeError\u001b[0m                              Traceback (most recent call last)",
      "\u001b[0;32m/var/folders/mt/xrw8y41160l8l58wm8mwkmh80000gn/T/ipykernel_1746/1160142272.py\u001b[0m in \u001b[0;36m<module>\u001b[0;34m\u001b[0m\n\u001b[1;32m      1\u001b[0m \u001b[0msqrtNum\u001b[0m \u001b[0;34m=\u001b[0m \u001b[0mint\u001b[0m\u001b[0;34m(\u001b[0m\u001b[0minput\u001b[0m\u001b[0;34m(\u001b[0m\u001b[0;34m\"Please input an iteger:\"\u001b[0m\u001b[0;34m)\u001b[0m\u001b[0;34m)\u001b[0m\u001b[0;34m\u001b[0m\u001b[0;34m\u001b[0m\u001b[0m\n\u001b[1;32m      2\u001b[0m \u001b[0;32mif\u001b[0m \u001b[0msqrtNum\u001b[0m \u001b[0;34m<\u001b[0m \u001b[0;36m0\u001b[0m\u001b[0;34m:\u001b[0m\u001b[0;34m\u001b[0m\u001b[0;34m\u001b[0m\u001b[0m\n\u001b[0;32m----> 3\u001b[0;31m     \u001b[0;32mraise\u001b[0m \u001b[0mRuntimeError\u001b[0m\u001b[0;34m(\u001b[0m\u001b[0;34m\"you can't give a negative number\"\u001b[0m\u001b[0;34m)\u001b[0m\u001b[0;34m\u001b[0m\u001b[0;34m\u001b[0m\u001b[0m\n\u001b[0m\u001b[1;32m      4\u001b[0m \u001b[0;32melse\u001b[0m\u001b[0;34m:\u001b[0m\u001b[0;34m\u001b[0m\u001b[0;34m\u001b[0m\u001b[0m\n\u001b[1;32m      5\u001b[0m     \u001b[0mprint\u001b[0m\u001b[0;34m(\u001b[0m\u001b[0mmath\u001b[0m\u001b[0;34m.\u001b[0m\u001b[0msqrt\u001b[0m\u001b[0;34m(\u001b[0m\u001b[0msqrtNum\u001b[0m\u001b[0;34m)\u001b[0m\u001b[0;34m)\u001b[0m\u001b[0;34m\u001b[0m\u001b[0;34m\u001b[0m\u001b[0m\n",
      "\u001b[0;31mRuntimeError\u001b[0m: you can't give a negative number"
     ]
    }
   ],
   "source": [
    "sqrtNum = int(input(\"Please input an iteger:\"))\n",
    "if sqrtNum < 0:\n",
    "    raise RuntimeError(\"you can't give a negative number\")\n",
    "else:\n",
    "    print(math.sqrt(sqrtNum))"
   ]
  },
  {
   "cell_type": "markdown",
   "id": "3795a9d2",
   "metadata": {},
   "source": [
    "## 定义函数"
   ]
  },
  {
   "cell_type": "markdown",
   "id": "7579cbff",
   "metadata": {
    "ExecuteTime": {
     "end_time": "2021-12-07T08:32:52.276452Z",
     "start_time": "2021-12-07T08:32:52.273284Z"
    }
   },
   "source": [
    "### 牛顿迭代法求平方根"
   ]
  },
  {
   "cell_type": "markdown",
   "id": "4227446e",
   "metadata": {},
   "source": [
    "**先解释一下何为牛顿迭代法：**\n",
    "\n",
    "多数方程不存在求根公式，因此求精确根非常困难，甚至不可解，从而寻找方程的近似根就显得特别重要。方法使用函数 的泰勒级数的前面几项来寻找方程 的根。牛顿迭代法是求方程根的重要方法之一，其最大优点是在方程 的单根附近具有平方收敛，而且该法还可以用来求方程的重根、复根，此时线性收敛，但是可通过一些方法变成超线性收敛。另外该方法广泛用于计算机编程中。\n",
    "\n",
    "将其用到求平方根的过程中,要求n的平方根，可以看做是求解$x^2 - n = 0$的解的过程：\n",
    "$x^2 - n$的导数为$2x$，求根时某一点$x_0$想要更新到该点对应得切线与$x$轴的交点$x_1$，$x_1$再重复上一个步骤，经过多次迭代以后就可以求得平方根,公式为：\n",
    ">$\\frac{x_0^{2}-n}{x_0 - x_1} = 2x_0\\\\\n",
    " x_1 = \\frac{1}{2}\\cdot(x_0 + \\frac{n}{x_0})\n",
    "$"
   ]
  },
  {
   "cell_type": "code",
   "execution_count": 56,
   "id": "cb491850",
   "metadata": {
    "ExecuteTime": {
     "end_time": "2021-12-07T09:19:04.461093Z",
     "start_time": "2021-12-07T09:19:04.455320Z"
    }
   },
   "outputs": [],
   "source": [
    "def newTon(n):\n",
    "    root = n/2\n",
    "    for i in range(20):\n",
    "        root = 1/2*(root + (n/root))\n",
    "                    \n",
    "    return root"
   ]
  },
  {
   "cell_type": "code",
   "execution_count": 57,
   "id": "22e119c3",
   "metadata": {
    "ExecuteTime": {
     "end_time": "2021-12-07T09:19:14.098252Z",
     "start_time": "2021-12-07T09:19:14.093907Z"
    }
   },
   "outputs": [
    {
     "data": {
      "text/plain": [
       "2.0"
      ]
     },
     "execution_count": 57,
     "metadata": {},
     "output_type": "execute_result"
    }
   ],
   "source": [
    "newTon(4)"
   ]
  },
  {
   "cell_type": "markdown",
   "id": "4f5efb7a",
   "metadata": {
    "ExecuteTime": {
     "end_time": "2021-12-07T09:21:52.038845Z",
     "start_time": "2021-12-07T09:21:52.036542Z"
    }
   },
   "source": [
    "## 面向对象"
   ]
  },
  {
   "cell_type": "markdown",
   "id": "38c2c43b",
   "metadata": {},
   "source": []
  },
  {
   "cell_type": "code",
   "execution_count": null,
   "id": "d938d675",
   "metadata": {},
   "outputs": [],
   "source": []
  },
  {
   "cell_type": "code",
   "execution_count": null,
   "id": "8277bc00",
   "metadata": {},
   "outputs": [],
   "source": []
  },
  {
   "cell_type": "code",
   "execution_count": null,
   "id": "8486b979",
   "metadata": {},
   "outputs": [],
   "source": []
  },
  {
   "cell_type": "code",
   "execution_count": null,
   "id": "932abc43",
   "metadata": {},
   "outputs": [],
   "source": []
  },
  {
   "cell_type": "code",
   "execution_count": null,
   "id": "5606a6cc",
   "metadata": {},
   "outputs": [],
   "source": []
  },
  {
   "cell_type": "code",
   "execution_count": null,
   "id": "e2c641b5",
   "metadata": {},
   "outputs": [],
   "source": []
  }
 ],
 "metadata": {
  "kernelspec": {
   "display_name": "Python 3 (ipykernel)",
   "language": "python",
   "name": "python3"
  },
  "language_info": {
   "codemirror_mode": {
    "name": "ipython",
    "version": 3
   },
   "file_extension": ".py",
   "mimetype": "text/x-python",
   "name": "python",
   "nbconvert_exporter": "python",
   "pygments_lexer": "ipython3",
   "version": "3.8.12"
  },
  "latex_envs": {
   "LaTeX_envs_menu_present": true,
   "autoclose": false,
   "autocomplete": true,
   "bibliofile": "biblio.bib",
   "cite_by": "apalike",
   "current_citInitial": 1,
   "eqLabelWithNumbers": true,
   "eqNumInitial": 1,
   "hotkeys": {
    "equation": "Ctrl-E",
    "itemize": "Ctrl-I"
   },
   "labels_anchors": false,
   "latex_user_defs": false,
   "report_style_numbering": false,
   "user_envs_cfg": false
  },
  "toc": {
   "base_numbering": 1,
   "nav_menu": {},
   "number_sections": true,
   "sideBar": true,
   "skip_h1_title": false,
   "title_cell": "Table of Contents",
   "title_sidebar": "Contents",
   "toc_cell": false,
   "toc_position": {},
   "toc_section_display": true,
   "toc_window_display": true
  },
  "varInspector": {
   "cols": {
    "lenName": 16,
    "lenType": 16,
    "lenVar": 40
   },
   "kernels_config": {
    "python": {
     "delete_cmd_postfix": "",
     "delete_cmd_prefix": "del ",
     "library": "var_list.py",
     "varRefreshCmd": "print(var_dic_list())"
    },
    "r": {
     "delete_cmd_postfix": ") ",
     "delete_cmd_prefix": "rm(",
     "library": "var_list.r",
     "varRefreshCmd": "cat(var_dic_list()) "
    }
   },
   "types_to_exclude": [
    "module",
    "function",
    "builtin_function_or_method",
    "instance",
    "_Feature"
   ],
   "window_display": false
  }
 },
 "nbformat": 4,
 "nbformat_minor": 5
}
